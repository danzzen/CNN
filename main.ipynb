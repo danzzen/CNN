{
 "cells": [
  {
   "cell_type": "code",
   "execution_count": 141,
   "metadata": {
    "collapsed": true
   },
   "outputs": [],
   "source": [
    "import pandas as pd\n",
    "import numpy as nm\n"
   ]
  },
  {
   "cell_type": "code",
   "execution_count": 142,
   "metadata": {
    "collapsed": true
   },
   "outputs": [],
   "source": [
    "def unpickle(file):\n",
    "    import pickle\n",
    "    with open(file, 'rb') as fo:\n",
    "        dict = pickle.load(fo, encoding='bytes')\n",
    "    return dict"
   ]
  },
  {
   "cell_type": "code",
   "execution_count": 143,
   "metadata": {
    "collapsed": true
   },
   "outputs": [],
   "source": [
    "file = 'cifar-100-python/train'\n",
    "file2 = 'cifar-100-python/test'\n",
    "train = unpickle(file)\n",
    "test = unpickle(file2)\n",
    "# print (len(data.get(b'filenames')))\n",
    "# print (data.keys())"
   ]
  },
  {
   "cell_type": "code",
   "execution_count": 144,
   "metadata": {
    "collapsed": true
   },
   "outputs": [],
   "source": [
    "# print(pd.Series(data.get(b'coarse_labels')))\n",
    "# print(test.keys())\n",
    "test_label_c=pd.Series(test.get(b'coarse_labels'))\n",
    "_testdata = pd.Series(x for x in test.get(b'data'))\n",
    "test_label_f=pd.Series(test.get(b'fine_labels'))\n",
    "images = pd.Series(test.get(b'filenames'))\n",
    "test_df = pd.DataFrame(images , columns=['images'])\n",
    "test_df['c_label'] = test_label_c\n",
    "test_df['f_label'] = test_label_f\n",
    "test_df['data'] =_testdata"
   ]
  },
  {
   "cell_type": "code",
   "execution_count": 94,
   "metadata": {
    "collapsed": true
   },
   "outputs": [],
   "source": [
    "c_label = pd.Series(train.get(b'coarse_labels'))\n",
    "f_label = pd.Series(train.get(b'fine_labels'))\n",
    "images = pd.Series(train.get(b'filenames'))\n",
    "_traindata = pd.Series(x for x in train.get(b'data'))"
   ]
  },
  {
   "cell_type": "code",
   "execution_count": 95,
   "metadata": {
    "collapsed": true
   },
   "outputs": [],
   "source": [
    "df = pd.DataFrame(images , columns=['images'])\n",
    "df['c_label'] = c_label\n",
    "df['f_label'] = f_label\n",
    "df['data'] =_traindata"
   ]
  },
  {
   "cell_type": "code",
   "execution_count": 140,
   "metadata": {},
   "outputs": [
    {
     "data": {
      "image/png": "[encoded data removed]",
      "text/plain": [
       "<matplotlib.figure.Figure at 0x291b7005080>"
      ]
     },
     "metadata": {},
     "output_type": "display_data"
    }
   ],
   "source": [
    "# df.head()\n",
    "# print(_traindata[0].tolist())\n",
    "import matplotlib.pyplot as plt\n",
    "img = np.array(_traindata[0])\n",
    "# transform it to a 3 x 1024 array, one row per color channel \n",
    "# and transpose it to a 1024 x 3 array, one row per rgb pixel\n",
    "img = img.reshape(3, 1024).T\n",
    "# reshape it so we can plot it as a 32 x 32 image with 3 color channels\n",
    "img = img.reshape(32, 32, 3)\n",
    "\n",
    "# plot\n",
    "plt.imshow(img)\n",
    "plt.show()"
   ]
  },
  {
   "cell_type": "code",
   "execution_count": 98,
   "metadata": {},
   "outputs": [
    {
     "data": {
      "text/html": [
       "<div>\n",
       "<style>\n",
       "    .dataframe thead tr:only-child th {\n",
       "        text-align: right;\n",
       "    }\n",
       "\n",
       "    .dataframe thead th {\n",
       "        text-align: left;\n",
       "    }\n",
       "\n",
       "    .dataframe tbody tr th {\n",
       "        vertical-align: top;\n",
       "    }\n",
       "</style>\n",
       "<table border=\"1\" class=\"dataframe\">\n",
       "  <thead>\n",
       "    <tr style=\"text-align: right;\">\n",
       "      <th></th>\n",
       "      <th>images</th>\n",
       "      <th>c_label</th>\n",
       "      <th>f_label</th>\n",
       "      <th>data</th>\n",
       "    </tr>\n",
       "  </thead>\n",
       "  <tbody>\n",
       "    <tr>\n",
       "      <th>0</th>\n",
       "      <td>b'volcano_s_000012.png'</td>\n",
       "      <td>10</td>\n",
       "      <td>49</td>\n",
       "      <td>[199, 196, 195, 195, 196, 197, 198, 198, 199, ...</td>\n",
       "    </tr>\n",
       "    <tr>\n",
       "      <th>1</th>\n",
       "      <td>b'woods_s_000412.png'</td>\n",
       "      <td>10</td>\n",
       "      <td>33</td>\n",
       "      <td>[113, 88, 72, 63, 72, 100, 131, 149, 139, 132,...</td>\n",
       "    </tr>\n",
       "    <tr>\n",
       "      <th>2</th>\n",
       "      <td>b'seal_s_001803.png'</td>\n",
       "      <td>0</td>\n",
       "      <td>72</td>\n",
       "      <td>[61, 61, 67, 62, 64, 63, 70, 73, 78, 88, 85, 7...</td>\n",
       "    </tr>\n",
       "    <tr>\n",
       "      <th>3</th>\n",
       "      <td>b'mushroom_s_001755.png'</td>\n",
       "      <td>4</td>\n",
       "      <td>51</td>\n",
       "      <td>[93, 88, 104, 90, 74, 70, 70, 75, 77, 60, 61, ...</td>\n",
       "    </tr>\n",
       "    <tr>\n",
       "      <th>4</th>\n",
       "      <td>b'adriatic_sea_s_000653.png'</td>\n",
       "      <td>10</td>\n",
       "      <td>71</td>\n",
       "      <td>[80, 80, 82, 86, 92, 97, 96, 97, 98, 99, 100, ...</td>\n",
       "    </tr>\n",
       "  </tbody>\n",
       "</table>\n",
       "</div>"
      ],
      "text/plain": [
       "                         images  c_label  f_label  \\\n",
       "0       b'volcano_s_000012.png'       10       49   \n",
       "1         b'woods_s_000412.png'       10       33   \n",
       "2          b'seal_s_001803.png'        0       72   \n",
       "3      b'mushroom_s_001755.png'        4       51   \n",
       "4  b'adriatic_sea_s_000653.png'       10       71   \n",
       "\n",
       "                                                data  \n",
       "0  [199, 196, 195, 195, 196, 197, 198, 198, 199, ...  \n",
       "1  [113, 88, 72, 63, 72, 100, 131, 149, 139, 132,...  \n",
       "2  [61, 61, 67, 62, 64, 63, 70, 73, 78, 88, 85, 7...  \n",
       "3  [93, 88, 104, 90, 74, 70, 70, 75, 77, 60, 61, ...  \n",
       "4  [80, 80, 82, 86, 92, 97, 96, 97, 98, 99, 100, ...  "
      ]
     },
     "execution_count": 98,
     "metadata": {},
     "output_type": "execute_result"
    }
   ],
   "source": [
    "test_df.head()"
   ]
  },
  {
   "cell_type": "code",
   "execution_count": 99,
   "metadata": {},
   "outputs": [
    {
     "data": {
      "text/plain": [
       "images     False\n",
       "c_label    False\n",
       "f_label    False\n",
       "data       False\n",
       "dtype: bool"
      ]
     },
     "execution_count": 99,
     "metadata": {},
     "output_type": "execute_result"
    }
   ],
   "source": [
    "df.isnull().any()"
   ]
  },
  {
   "cell_type": "code",
   "execution_count": 100,
   "metadata": {},
   "outputs": [
    {
     "data": {
      "text/plain": [
       "images     False\n",
       "c_label    False\n",
       "f_label    False\n",
       "data       False\n",
       "dtype: bool"
      ]
     },
     "execution_count": 100,
     "metadata": {},
     "output_type": "execute_result"
    }
   ],
   "source": [
    "test_df.isnull().any()"
   ]
  },
  {
   "cell_type": "code",
   "execution_count": 131,
   "metadata": {
    "collapsed": true
   },
   "outputs": [],
   "source": [
    "train_label=df['c_label']\n",
    "test_label = test_df['c_label']"
   ]
  },
  {
   "cell_type": "code",
   "execution_count": 102,
   "metadata": {
    "collapsed": true
   },
   "outputs": [],
   "source": [
    "from __future__ import division\n",
    "\n",
    "import warnings\n",
    "from scipy import linalg\n",
    "\n",
    "from sklearn.base import TransformerMixin, BaseEstimator\n",
    "from sklearn.utils.validation import check_is_fitted\n",
    "from sklearn.utils import check_array, as_float_array\n",
    "from sklearn.externals import six\n",
    "class ZCA(BaseEstimator, TransformerMixin):\n",
    "    def __init__(self, regularization=1e-6, copy=False):\n",
    "        self.regularization = regularization\n",
    "        self.copy = copy\n",
    "    \n",
    "    def fit(self, X, y=None):\n",
    "        \"\"\"Compute the mean, whitening and dewhitening matrices.\n",
    "        Parameters\n",
    "        X : array-like with shape [n_samples, n_features]\n",
    "            The data used to compute the mean, whitening and dewhitening\n",
    "            matrices.\n",
    "        \"\"\"\n",
    "        def warn_if_not_float(X, estimator='This algorithm'):\n",
    "            if not isinstance(estimator, six.string_types):\n",
    "                estimator = estimator.__class__.__name__\n",
    "            if X.dtype.kind != 'f':\n",
    "                warnings.warn(\"%s assumes floating point values as input, \"\n",
    "                              \"got %s\" % (estimator, X.dtype))\n",
    "                return True\n",
    "            return False\n",
    "        X = check_array(X, accept_sparse=None, copy=self.copy,\n",
    "                        ensure_2d=True)\n",
    "        if warn_if_not_float(X, estimator=self):\n",
    "            X = X.astype(np.float)\n",
    "        self.mean_ = X.mean(axis=0)\n",
    "        X_ = X - self.mean_\n",
    "        cov = np.dot(X_.T, X_) / (X_.shape[0]-1)\n",
    "        U, S, _ = linalg.svd(cov)\n",
    "        s = np.sqrt(S.clip(self.regularization))\n",
    "        s_inv = np.diag(1./s)\n",
    "        s = np.diag(s)\n",
    "        self.whiten_ = np.dot(np.dot(U, s_inv), U.T)\n",
    "        self.dewhiten_ = np.dot(np.dot(U, s), U.T)\n",
    "        return self\n",
    "\n",
    "    def transform(self, X, y=None, copy=None):\n",
    "        \"\"\"Perform ZCA whitening\n",
    "        X : array-like with shape [n_samples, n_features]\n",
    "            The data to whiten along the features axis.\n",
    "        \"\"\"\n",
    "        check_is_fitted(self, 'mean_')\n",
    "        X = as_float_array(X, copy=self.copy)\n",
    "        return np.dot(X - self.mean_, self.whiten_.T)\n",
    "\n",
    "    def inverse_transform(self, X, copy=None):\n",
    "        \"\"\"Undo the ZCA transform and rotate back to the original\n",
    "        representation\n",
    "        Parameters\n",
    "        ----------\n",
    "        X : array-like with shape [n_samples, n_features]\n",
    "            The data to rotate back.\n",
    "        \"\"\"\n",
    "        check_is_fitted(self, 'mean_')\n",
    "        X = as_float_array(X, copy=self.copy)\n",
    "        return np.dot(X, self.dewhiten_) + self.mean_\n",
    "__all__ = ['ZCA']\n"
   ]
  },
  {
   "cell_type": "code",
   "execution_count": 129,
   "metadata": {},
   "outputs": [
    {
     "name": "stderr",
     "output_type": "stream",
     "text": [
      "C:\\Users\\lenovo\\Anaconda3\\lib\\site-packages\\ipykernel_launcher.py:31: UserWarning: ZCA assumes floating point values as input, got uint8\n"
     ]
    }
   ],
   "source": [
    "X = train.get(b'data')# data array\n",
    "trf = ZCA().fit(X)\n",
    "X_whitened = trf.transform(X)\n",
    "X_whitened = (X_whitened-X_whitened.mean())/X_whitened.max()"
   ]
  },
  {
   "cell_type": "code",
   "execution_count": 130,
   "metadata": {},
   "outputs": [
    {
     "name": "stderr",
     "output_type": "stream",
     "text": [
      "C:\\Users\\lenovo\\Anaconda3\\lib\\site-packages\\ipykernel_launcher.py:31: UserWarning: ZCA assumes floating point values as input, got uint8\n"
     ]
    }
   ],
   "source": [
    "# print(X_whitened)\n",
    "X_test = test.get(b'data')\n",
    "trf = ZCA().fit(X_test)\n",
    "X_whitened_test=trf.transform(X_test)\n",
    "X_whitened_test = (X_whitened_test-X_whitened_test.mean())/X_whitened_test.max()"
   ]
  },
  {
   "cell_type": "code",
   "execution_count": 122,
   "metadata": {
    "collapsed": true
   },
   "outputs": [],
   "source": [
    "from sklearn.model_selection import cross_val_score\n",
    "from sklearn.tree import DecisionTreeClassifier\n",
    "clf = DecisionTreeClassifier(random_state=0)\n"
   ]
  },
  {
   "cell_type": "code",
   "execution_count": null,
   "metadata": {
    "collapsed": true
   },
   "outputs": [],
   "source": []
  },
  {
   "cell_type": "code",
   "execution_count": 123,
   "metadata": {},
   "outputs": [
    {
     "data": {
      "text/plain": [
       "DecisionTreeClassifier(class_weight=None, criterion='gini', max_depth=None,\n",
       "            max_features=None, max_leaf_nodes=None,\n",
       "            min_impurity_split=1e-07, min_samples_leaf=1,\n",
       "            min_samples_split=2, min_weight_fraction_leaf=0.0,\n",
       "            presort=False, random_state=0, splitter='best')"
      ]
     },
     "execution_count": 123,
     "metadata": {},
     "output_type": "execute_result"
    }
   ],
   "source": [
    "clf.fit(X_whitened,train_label)"
   ]
  },
  {
   "cell_type": "code",
   "execution_count": 124,
   "metadata": {
    "collapsed": true
   },
   "outputs": [],
   "source": [
    "y_pred=clf.predict(X_whitened_test)"
   ]
  },
  {
   "cell_type": "code",
   "execution_count": 127,
   "metadata": {},
   "outputs": [
    {
     "name": "stdout",
     "output_type": "stream",
     "text": [
      "[ 1100  2340 16860 ...,  3080  1900 12680]\n",
      "[10980, 10660, 1440, 5020, 11420, 3840, 11300, 7280, 10460, 4000, 11420, 13500, 20620, 20380, 5800, 8860, 3840, 9940, 3400, 5060, 3400, 10980, 13500, 15580, 11420, 3320, 5780, 18160, 18160, 3400, 6400, 4220, 19820, 16860, 18120, 2460, 19160, 14220, 6500, 9740, 13260, 7480, 10980, 2460, 18120, 5440, 19820, 19160, 13500, 9340, 80, 7120, 3180, 5140, 14040, 1640, 11420, 18040, 8840, 20380, 14540, 15540, 11300, 17300, 7140, 14700, 8860, 3640, 13260, 3840, 13320, 19800, 2340, 2820, 1640, 1640, 3640, 3200, 14540, 5440, 11420, 16560, 3080, 7120, 15580, 20780, 16560, 10660, 14220, 2340, 5440, 7360, 15540, 11420, 18260, 11420, 17000, 13500, 9740, 14700, 13520, 5660, 17940, 1900, 8860, 20380, 10520, 9340, 5140, 18180, 6500, 6400, 15540, 4000, 3180, 11420, 18160, 8860, 5140, 18120, 20700, 3200, 11380, 3840, 10660, 6400, 11420, 17000, 3400, 14920, 14220, 3320, 1020, 17480, 10660, 2820, 11200, 13280, 18040, 10460, 80, 14220, 18040, 9740, 7480, 1900, 6500, 5780, 5020, 19160, 19160, 14540, 7360, 18180, 13900, 13320, 19160, 6400, 7480, 80, 16720, 18160, 6740, 3200, 600, 17940, 3080, 14980, 5020, 5660, 3180, 9740, 80, 5660, 1900, 5660, 1640, 2460, 7360, 5800, 5780, 13280, 5440, 17600, 3560, 3560, 5800, 1900, 15960, 5660, 9240, 7480, 13900, 18260, 7880, 7480, 19160, 13260, 7140, 6740, 7120, 16560, 10360, 11200, 7120, 10460, 15880, 11620, 17600, 16860, 2460, 15960, 10980, 19800, 9940, 18180, 14040, 2340, 3320, 20620, 7880, 15540, 10520, 14540, 9240, 7360, 4000, 10520, 14580, 11420, 20780, 5140, 17940, 7480, 17300, 4000, 1640, 16720, 3640, 11620, 10460, 7480, 12680, 11420, 14220, 5060, 17600, 15880, 80, 5780, 2820, 3320, 16720, 10360, 17000, 9940, 19160, 11620, 7120, 8840, 17600, 10520, 20780, 1100, 11380, 2820, 3400, 1020, 7120, 3240, 14980, 5020, 18920, 5660, 8840, 7360, 2340, 13320, 5800, 3240, 16560, 7680, 3560, 20780, 600, 13320, 7360, 11760, 8840, 3840, 15540, 14220, 6720, 15880, 18920, 9240, 3320, 2340, 8860, 20780, 18920, 9240, 5800, 7140, 6720, 14540, 10520, 11620, 7360, 3560, 11380, 7360, 19820, 8840, 8860, 11620, 16860, 11300, 3200, 18160, 9740, 20780, 1640, 2340, 9240, 14040, 11380, 2820, 7880, 7140, 11420, 16720, 4220, 3240, 6100, 11200, 13900, 2820, 12680, 1900, 3180, 5800, 10360, 3240, 14980, 13320, 14920, 7140, 3200, 3200, 10360, 12680, 9740, 19160, 18960, 5800, 18920, 7280, 14220, 13320, 13280, 5780, 10660, 7880, 13260, 3200, 20780, 3840, 19800, 17300, 19800, 10660, 3560, 15580, 6740, 6720, 7140, 4000, 7880, 14220, 13520, 7120, 19820, 11420, 20380, 15540, 15580, 2340, 20700, 17300, 5800, 5140, 1440, 600, 17480, 15540, 8060, 10980, 18040, 1900, 5800, 16860, 14540, 2820, 7120, 5140, 1440, 3320, 15960, 20780, 5800, 18920, 11420, 8060, 14040, 13320, 15540, 18160, 5060, 10660, 1100, 20620, 9760, 18920, 10360, 8840, 14540, 3200, 15540, 1640, 14580, 15960, 7360, 5020, 14040, 11380, 11620, 2340, 16720, 3200, 3320, 6100, 20620, 20700, 13520, 20700, 17300, 5440, 1100, 20700, 5440, 5440, 3200, 7360, 15960, 3180, 13520, 15540, 7140, 6100, 19160, 6740, 10520, 14040, 3080, 11760, 10660, 9340, 7120, 4000, 14580, 9940, 7280, 7280, 2460, 14580, 18160, 8840, 80, 6500, 9740, 13500, 17480, 19820, 4000, 14980, 14580, 6740, 2340, 1440, 11760, 6500, 10980, 8060, 17480, 20380, 16720, 14540, 20780, 11420, 11620, 17000, 19800, 14220, 14040, 19820, 11760, 19160, 17940, 16860, 10360, 14220, 14700, 2340, 3080, 5060, 600, 16720, 5660, 3080, 13280, 14920, 13900, 15960, 3240, 14920, 1900, 9760, 9740, 7360, 15580, 13260, 18160, 10660, 14700, 7120, 10520, 11380, 14980, 5060, 11300, 5140, 14040, 15540, 15540, 16860, 20620, 3080, 11420, 13520, 6500, 14700, 600, 1440, 18160, 8840, 3240, 18120, 16560, 17940, 2460, 8860, 6400, 5660, 13260, 10980, 3560, 13520, 13900, 16720, 16720, 10360, 1020, 14040, 14980, 3180, 17300, 11760, 19160, 18920, 11760, 6740, 3640, 5440, 5660, 19820, 7140, 9240, 3200, 14700, 15880, 20620, 2820, 18120, 3180, 7480, 8060, 600, 1020, 5780, 15960, 1440, 5660, 17600, 8860, 7680, 13320, 80, 13280, 14540, 15960, 3640, 20620, 6400, 4000, 18960, 14920, 10660, 5440, 18260, 9340, 5780, 10520, 4000, 9340, 13280, 18960, 19800, 16860, 3640, 13500, 18920, 9940, 8060, 5660, 11200, 4220, 1640, 13520, 7680, 19820, 9240, 20700, 9240, 18160, 3640, 1440, 7880, 7140, 5440, 11300, 13320, 20780, 9940, 11380, 4000, 11380, 6100, 18120, 16720, 13900, 1020, 7880, 13320, 6720, 3640, 9340, 13280, 14980, 12680, 600, 2460, 5660, 7120, 1020, 3560, 14540, 2820, 17480, 10360, 7280, 7280, 1020, 3840, 9940, 13900, 7140, 11420, 9740, 1640, 2460, 9760, 6720, 3840, 7280, 6720, 17480, 6500, 16860, 16560, 14540, 9760, 8840, 3200, 17300, 13520, 11620, 20700, 16560, 15580, 1640, 20620, 9940, 1020, 3640, 4000, 11420, 11300, 18120, 5140, 9940, 10520, 11200, 6740, 14920, 1020, 4220, 13500, 3240, 11420, 4220, 16560, 19800, 10360, 7880, 9760, 1900, 8060, 5660, 1640, 16860, 14540, 11760, 13260, 4220, 19820, 9760, 5660, 14700, 3640, 17000, 11300, 18960, 6500, 80, 11420, 18160, 15960, 2340, 7140, 20700, 6500, 18920, 11200, 1100, 17600, 18260, 19800, 3080, 11300, 10520, 5780, 1900, 7480, 7140, 13280, 3400, 9760, 20620, 4000, 9240, 13280, 11620, 14580, 6720, 11200, 5440, 11760, 3640, 7280, 18960, 10660, 1100, 5060, 5800, 1020, 19160, 7880, 3400, 15580, 6720, 10460, 14920, 19160, 14980, 16560, 3200, 5060, 9740, 9940, 17300, 11300, 14540, 18040, 13260, 1640, 7120, 16720, 7120, 7140, 16720, 17480, 18260, 5440, 1640, 3080, 3240, 7680, 5140, 6500, 14220, 3240, 20700, 11620, 13520, 3320, 18920, 11420, 19800, 5780, 6400, 17940, 14700, 11380, 18040, 13320, 1640, 5060, 5060, 11420, 15960, 7120, 9760, 11420, 13900, 15960, 1100, 14980, 7480, 16860, 2340, 10660, 3320, 10660, 3180, 3200, 14920, 10360, 7480, 18920, 5440, 5800, 13260, 5060, 3200, 7280, 19820, 14540, 3080, 7680, 6400, 15580, 10520, 16720, 1020, 13520, 14980, 14040, 18920, 20380, 16720, 7360, 19800, 13320, 18040, 9740, 14980, 9940, 9240, 1100, 11300, 20700, 11300, 3320, 10660, 14980, 17600, 3560, 20380, 5020, 1440, 5780, 18160, 18120, 18180, 11300, 11420, 14540, 13900, 11420, 17600, 20780, 9740, 18960, 17940, 18120, 17300, 18920, 7280, 18040, 14040, 11200, 3180, 10360, 5440, 10460, 15880, 11380, 3080, 9940, 10460, 3080, 3240, 18120, 10460, 8840, 20620, 13320, 6740, 17940, 17940, 13900, 8840, 5020, 3200, 14700, 10360, 18260, 1100, 12680, 17480, 17940, 5800, 5020, 7120, 8060, 10520, 18040, 5060, 12680, 11200, 13260, 3560, 7480, 16720, 20380, 3640, 19800, 3400, 13500, 14540, 8860, 8860, 16560, 20620, 17600, 13320, 14700, 7680, 11420, 10980, 18920, 11300, 9740, 14040, 20780, 16720, 3180, 5060, 2820, 17300, 2340, 7880, 5800, 1440, 19800, 6720, 20700, 600, 3840, 6500, 11200, 14040, 15580, 4000, 3180, 9740, 1020, 17000, 19800, 15540, 18040, 16720, 18960, 11420, 9240, 9940, 4000, 8060, 19820, 11420, 3320, 5020, 1440, 18260, 13260, 20620, 2460, 1100, 600, 3560, 3200, 7680, 18160, 7120, 3180, 16860, 14040, 16560, 13520, 3320, 9340, 5780, 2340, 6400, 8060, 20620, 13520, 18920, 13900, 11300, 15580, 5140, 11200, 10980, 16720, 10460, 13260, 1440, 11380, 19820, 1100, 13520, 6500, 10980, 3560, 6400, 10660, 7140, 13900, 7140, 20780, 1020, 19800, 8840, 11300, 10460, 16860, 18920, 18180, 15580, 15580, 13500, 16860, 18160, 3400, 18960, 3640, 7680, 20620, 1440, 11760, 17600, 13260, 10520, 80, 3080, 11200, 1020, 10980, 1020, 3840, 14540, 600, 15960, 3240, 6500, 13520, 1100, 6500, 11420, 6500, 3640, 17600, 11380, 16860, 14700, 4220, 20620, 20380, 3180, 2820, 18920, 12680, 10460, 3180, 4000, 3560, 5020, 2820, 17300, 10660, 6100, 18260, 18040, 19160, 17300, 1640, 9740, 13260, 4220, 11380, 14040, 10980, 13280, 19160, 16860, 3240, 18040, 5060, 19820, 10660, 7680, 5440, 2340, 15880, 1900, 7480, 14920, 15960, 11620, 5660, 3320, 14040, 17940, 5020, 8060, 7360, 11200, 11760, 1900, 20780, 14220, 13260, 11300, 10980, 13260, 20700, 9240, 11760, 13320, 14980, 1440, 5660, 9240, 16860, 5020, 11420, 17940, 11420, 8860, 14540, 1100, 16720, 5140, 20380, 6100, 15580, 19820, 7280, 19820, 14540, 19160, 11200, 13900, 9760, 11380, 11380, 18960, 6100, 20620, 20380, 14540, 11200, 9760, 3840, 11620, 12680, 16720, 600, 13280, 3640, 9760, 7140, 11760, 5140, 3840, 10460, 14220, 19820, 11760, 19800, 10520, 3560, 7480, 7120, 7680, 10520, 9760, 3560, 15960, 18920, 16860, 13280, 13900, 3080, 13520, 14580, 3400, 14920, 20780, 20780, 13280, 16860, 5780, 5060, 16720, 17000, 18120, 7680, 14920, 18260, 6100, 5020, 6100, 18120, 10360, 3400, 3840, 16860, 3560, 7360, 9740, 17000, 20620, 2340, 19820, 14700, 14980, 19820, 14580, 19800, 18180, 18180, 14700, 3320, 9340, 13280, 19800, 18920, 8060, 9760, 8060, 13900, 4000, 10360, 10660, 10980, 4000, 7360, 5440, 1440, 80, 13320, 6100, 14920, 14580, 3400, 3180, 10980, 12680, 18960, 11420, 9740, 8840, 7120, 2820, 19160, 8840, 9340, 1020, 6100, 17300, 6100, 11760, 17940, 11760, 13260, 4220, 3560, 14980, 6400, 9760, 17000, 5060, 9940, 18180, 16560, 14700, 17000, 7120, 15960, 10660, 17300, 10460, 10360, 13520, 18920, 9340, 17300, 17940, 9240, 7880, 20620, 10520, 2820, 1440, 14700, 7360, 18920, 3840, 15960, 11380, 4000, 8860, 17000, 8860, 15880, 2460, 80, 5060, 9740, 18160, 6500, 18040, 15580, 15880, 9240, 11760, 6100, 6500, 19820, 20620, 10460, 10360, 18180, 20620, 8860, 18160, 14220, 7360, 3840, 6100, 12680, 18960, 17600, 6500, 11620, 18160, 9760, 3200, 17000, 10520, 17000, 1900, 7880, 5660, 18040, 15880, 3320, 14980, 10360, 3560, 11300, 17940, 12680, 5140, 18260, 5440, 3180, 19800, 17000, 12680, 8860, 6400, 6740, 2820, 17600, 3180, 9340, 11380, 5140, 7280, 15540, 14920, 18260, 15880, 7480, 3200, 7680, 80, 18120, 15580, 15580, 5020, 16560, 3240, 5060, 9340, 3560, 3560, 14220, 17300, 18960, 18960, 9240, 1100, 13320, 15960, 18160, 7880, 6500, 3400, 3080, 9240, 6720, 8060, 10520, 18260, 14040, 7140, 2820, 1100, 13900, 5020, 5060, 3560, 3180, 6740, 18260, 600, 19160, 4220, 11620, 3400, 5780, 8060, 17940, 12680, 13520, 17000, 18180, 13280, 9740, 3840, 7280, 13520, 9740, 7880, 15580, 11300, 13260, 7140, 1640, 3180, 8860, 9240, 15540, 16560, 9940, 1100, 14220, 20380, 13320, 11620, 6400, 3080, 13900, 6720, 7680, 1100, 8060, 7120, 3080, 20380, 17940, 3240, 5140, 20700, 600, 3320, 14220, 3640, 17300, 18180, 20620, 5780, 14580, 6500, 15880, 3320, 10460, 9340, 10980, 20380, 17480, 13260, 3200, 18120, 8860, 5440, 14220, 3180, 9340, 11620, 18040, 18040, 16720, 19160, 14580, 8840, 1640, 11300, 11300, 14580, 18120, 8060, 14540, 5140, 6100, 10520, 7680, 17940, 14580, 13280, 8060, 5440, 7680, 11300, 5660, 11380, 13280, 4220, 10660, 3320, 10520, 18920, 6740, 3840, 5780, 11200, 18180, 17480, 15540, 10360, 7140, 10460, 8840, 17940, 14040, 6400, 17600, 7480, 9340, 9240, 1100, 18260, 9340, 2340, 11420, 8840, 11420, 14920, 14580, 11420, 4220, 13280, 19820, 3320, 5800, 3080, 3400, 17300, 7680, 13280, 9740, 18180, 3840, 11420, 9340, 18920, 7880, 5780, 16860, 14580, 12680, 13520, 10660, 7480, 9240, 5060, 9760, 6400, 17940, 15960, 6500, 13900, 6500, 4220, 18120, 10360, 15540, 18260, 3840, 9240, 14920, 10520, 2340, 15540, 14040, 16560, 18960, 8060, 15960, 6400, 18160, 8860, 5140, 13260, 7140, 3200, 17940, 14920, 18040, 19800, 20380, 16560, 11300, 16560, 15580, 4220, 6100, 600, 6720, 20700, 10660, 3200, 15880, 12680, 7480, 18120, 4220, 3240, 11760, 1440, 15880, 5060, 7140, 11760, 9340, 5800, 2820, 5660, 3640, 3200, 11420, 600, 17300, 17940, 5140, 3320, 20620, 600, 1440, 18920, 9760, 3240, 1900, 15540, 4220, 14040, 17000, 11420, 6740, 6100, 20380, 9740, 18180, 4000, 16560, 6400, 20700, 3080, 5060, 2460, 20380, 8060, 14700, 10980, 10660, 2460, 14980, 9940, 20780, 8060, 3080, 19800, 13900, 14220, 1020, 5020, 3560, 14580, 17940, 3080, 5660, 5800, 7280, 13520, 15540, 9240, 8840, 15880, 15580, 18180, 18160, 9340, 18120, 14920, 17600, 1020, 3640, 5020, 12680, 6720, 18920, 6720, 16860, 11760, 6400, 11380, 14040, 6400, 2820, 1100, 17300, 13280, 19800, 3400, 12680, 14220, 1100, 10360, 18040, 7120, 14580, 5440, 5440, 6720, 3200, 1020, 13500, 18960, 6100, 19800, 2340, 14980, 10660, 3640, 10520, 5020, 3840, 17300, 14540, 3400, 9240, 2820, 5660, 1900, 18960, 18040, 600, 10980, 14220, 8060, 9340, 17600, 7880, 15580, 6740, 10980, 13280, 5140, 8840, 1900, 3560, 3320, 14980, 14920, 11620, 6500, 14040, 1900, 11420, 5660, 18180, 18120, 3560, 9340, 5060, 11420, 7140, 7880, 5060, 20780, 3200, 3560, 7140, 16720, 14580, 5060, 6740, 8860, 10520, 20380, 5440, 9340, 7120, 5060, 10360, 15880, 20780, 11300, 17600, 13900, 1900, 9740, 17600, 3560, 18260, 10460, 18040, 7480, 11420, 1100, 14980, 15960, 11420, 18180, 3180, 20620, 9760, 16860, 4220, 9340, 15880, 10980, 20620, 16560, 7880, 5800, 11200, 17600, 19160, 80, 9760, 7360, 7480, 16720, 13520, 17480, 9760, 18120, 8060, 17300, 4000, 8860, 5440, 17940, 17300, 5440, 20380, 3180, 16560, 80, 20380, 14920, 9940, 15580, 7360, 13280, 15960, 17300, 16720, 7880, 7680, 2820, 6400, 16720, 17000, 10520, 15580, 13260, 7120, 600, 14980, 1100, 11420, 11760, 5660, 2340, 11620, 10980, 5780, 13320, 13320, 5060, 3080, 19820, 16720, 4220, 9760, 600, 11380, 1900, 19820, 20780, 11380, 14920, 16560, 9740, 11620, 5440, 14040, 16560, 18260, 2460, 5020, 1900, 14040, 11760, 15960, 3560, 7360, 8840, 7140, 9760, 4220, 9240, 18160, 3840, 19820, 10660, 17300, 9340, 5020, 14980, 14700, 2340, 13260, 13260, 3180, 19160, 18920, 14540, 1020, 16720, 5060, 5660, 18260, 15960, 11420, 14700, 5780, 10980, 20620, 14700, 8060, 14540, 20780, 600, 20700, 18180, 18960, 15960, 11760, 17600, 5780, 3640, 8860, 9240, 11420, 7360, 6500, 6100, 6500, 13260, 16560, 80, 5800, 15580, 11300, 5780, 10980, 16860, 5780, 14540, 20380, 5060, 13280, 9240, 5140, 6100, 9340, 9940, 9740, 18960, 14580, 6100, 5660, 3320, 19820, 18960, 3080, 14580, 2340, 2460, 4000, 11380, 7280, 15580, 7680, 18960, 16720, 10520, 1900, 6400, 18180, 5140, 2340, 7120, 11420, 11420, 7140, 2820, 3840, 6740, 2820, 3320, 6720, 19160, 20780, 9940, 5660, 1440, 20700, 19820, 8060, 6400, 3200, 17480, 10980, 13260, 2820, 18120, 3840, 11380, 13280, 3560, 14220, 19820, 20620, 19800, 20780, 6720, 5440, 19820, 17000, 15540, 6740, 11420, 12680, 16720, 19800, 7880, 11420, 11620, 3240, 1900, 10660, 11760, 1900, 19820, 7480, 20780, 11300, 20620, 18160, 18960, 600, 18040, 14580, 6400, 10360, 3320, 16560, 13900, 11620, 13320, 18040, 8860, 6400, 15960, 7480, 11420, 10980, 15880, 14920, 3240, 5440, 14220, 20780, 14980, 2460, 13520, 5060, 3200, 19820, 9240, 14040, 80, 5780, 11380, 18120, 17480, 14580, 2460, 14920, 8060, 5440, 7120, 18180, 3080, 6740, 14040, 6740, 10980, 2820, 9740, 5060, 5020, 7140, 14980, 18260, 6500, 13320, 17600, 5440, 2460, 5660, 7280, 8840, 6720, 5440, 19800, 17480, 7480, 7680, 2820, 9940, 9760, 80, 13520, 5440, 11380, 2340, 2460, 7680, 15960, 7120, 14700, 15580, 5020, 18180, 3240, 11200, 10360, 15880, 5660, 4000, 19820, 19800, 18960, 3640, 2340, 3560, 3560, 11420, 14580, 8860, 9340, 6100, 9340, 7140, 7680, 5140, 15540, 5140, 10360, 13520, 18180, 80, 6740, 14980, 8060, 13320, 11760, 11300, 13500, 6400, 17940, 4000, 7280, 20700, 3240, 1100, 13260, 20380, 8060, 14540, 2460, 11760, 18180, 18040, 7680, 9740, 11200, 11420, 18920, 10360, 3320, 11380, 5800, 3400, 4220, 3200, 5140, 20620, 10360, 9240, 3200, 11760, 3200, 17940, 10520, 14220, 1440, 10460, 1020, 7280, 11620, 600, 16860, 3080, 3180, 11300, 14040, 13520, 17300, 1640, 9240, 19160, 2460, 10520, 1900, 2340, 1900, 13520, 3840, 17940, 7680, 15580, 5020, 15880, 13900, 11200, 12680, 9940, 1020, 16860, 9940, 11380, 11380, 3840, 20380, 17300, 1900, 16560, 6100, 12680, 10520, 6500, 17000, 600, 20380, 18180, 12680, 14540, 14920, 13320, 11620, 2460, 6740, 19800, 7360, 7120, 11760, 20620, 6500, 20620, 13280, 3400, 9740, 10520, 11620, 4000, 19800, 1640, 6100, 18120, 19820, 17600, 6100, 18040, 5020, 6500, 6400, 4220, 15960, 6400, 1640, 14700, 6100, 1440, 4220, 8860, 19160, 16720, 14980, 11200, 3400, 11760, 18180, 13520, 18120, 16560, 5660, 10460, 18040, 1640, 3080, 10660, 4220, 10980, 5060, 11300, 17000, 8060, 9240, 6720, 1100, 19160, 6100, 600, 13520, 3200, 4000, 14220, 3180, 10660, 5060, 10660, 7880, 14920, 14980, 12680, 1020, 9340, 13260, 20380, 13320, 9740, 2340, 5800, 16860, 7480, 3640, 10460, 600, 13320, 600, 14220, 14220, 7880, 9760, 9740, 15580, 14920, 1900, 3080, 19820, 7120, 11380, 5440, 8060, 1640, 1100, 5060, 1440, 10660, 6400, 13260, 9240, 13280, 10460, 5440, 13500, 18160, 10660, 13320, 1100, 1440, 2460, 7680, 18260, 18920, 17300, 5440, 4000, 11380, 17600, 10460, 20700, 10360, 6720, 9740, 20620, 14700, 15960, 18160, 10460, 10520, 17480, 20780, 11200, 20380, 18920, 1640, 15580, 13280, 3180, 3320, 4000, 17480, 9340, 3080, 3240, 7120, 12680, 17300, 18160, 14920, 2340, 5060, 10460, 16560, 4220, 13520, 13280, 6500, 3400, 18920, 2340, 5440, 13900, 17300, 18920, 14580, 10460, 10520, 13520, 5140, 3320, 13280, 12680, 3640, 13320, 5660, 1440, 11420, 3180, 11200, 14700, 8860, 15580, 16860, 19160, 7880, 6100, 5660, 3840, 13520, 5780, 6720, 16860, 3320, 20700, 15540, 10520, 20780, 8840, 7360, 7280, 80, 2460, 11420, 6400, 6400, 3320, 5020, 9760, 6100, 6500, 13280, 18180, 14540, 5440, 8060, 10360, 3560, 15880, 18260, 2460, 15960, 18040, 15880, 14980, 9340, 11620, 17000, 6740, 15880, 20700, 19160, 5140, 13900, 3560, 6100, 14220, 20620, 14920, 2340, 18920, 20380, 11380, 1100, 13500, 11620, 9940, 13320, 5020, 11420, 15580, 80, 20780, 14980, 2340, 5780, 18040, 18180, 9240, 18920, 3320, 16720, 13280, 15540, 20620, 9740, 14220, 20700, 17000, 14700, 16560, 7120, 1440, 3400, 17480, 8840, 4000, 19820, 5780, 6740, 17600, 15880, 17940, 1900, 3200, 11420, 13260, 1100, 20380, 6400, 20700, 16560, 10460, 18260, 3840, 15960, 7680, 13500, 3200, 80, 18040, 1100, 4220, 20780, 5140, 17000, 8840, 5800, 2820, 9760, 2460, 10980, 6400, 14040, 3320, 13520, 2820, 9760, 20700, 3560, 15540, 5660, 3080, 17300, 11420, 14540, 18260, 18120, 10520, 9740, 8060, 1440, 13260, 14920, 13500, 19800, 13520, 11200, 10980, 17000, 11300, 14040, 16560, 7880, 6720, 6500, 14220, 18260, 80, 5800, 17940, 15880, 19800, 1900, 16560, 7140, 16560, 5780, 5800, 20380, 1440, 13280, 17940, 11200, 16560, 16720, 13500, 16720, 3640, 9760, 11760, 16720, 20620, 1440, 17000, 14040, 18040, 10360, 15880, 7120, 5060, 18120, 1640, 14920, 12680, 5660, 17480, 11380, 8860, 14540, 6740, 13520, 13260, 6100, 14580, 20700, 11760, 17600, 18180, 6100, 2460, 1640, 11300, 7480, 16860, 14040, 9760, 10980, 14220, 11760, 3240, 7140, 7120, 4220, 15540, 6100, 19820, 9740, 3200, 8860, 20380, 11420, 2460, 10360, 9760, 3200, 17300, 80, 17940, 18180, 6400, 14700, 14040, 9760, 5660, 1440, 80, 8060, 11200, 3640, 4220, 10360, 3840, 5440, 7680, 6740, 1640, 2820, 11760, 16720, 3180, 13260, 5140, 17000, 9940, 15540, 12680, 20380, 1020, 3640, 18260, 7680, 11300, 9940, 5440, 15540, 7360, 14580, 15960, 17480, 9940, 18260, 16560, 9760, 15960, 16560, 6100, 80, 9340, 11200, 15880, 20380, 5060, 9740, 3640, 15880, 8060, 7480, 15540, 7120, 11760, 14700, 11420, 4000, 3320, 7680, 14220, 19820, 15960, 20780, 14980, 11620, 14920, 10360, 17940, 17940, 14220, 1900, 3400, 10460, 19160, 17000, 15540, 18160, 17940, 15540, 8060, 10360, 5060, 12680, 10360, 18920, 5060, 11380, 3400, 11420, 19800, 14220, 11420, 80, 1020, 5060, 15580, 16860, 7280, 2820, 11420, 9760, 15960, 20780, 15540, 11420, 13280, 7880, 4220, 6400, 5660, 8060, 11760, 14980, 6100, 14220, 7680, 9760, 7120, 2340, 6100, 11620, 17300, 18180, 600, 9940, 13280, 14920, 5440, 5020, 6500, 7360, 16560, 18120, 9760, 7480, 6100, 5440, 11300, 2340, 11300, 14040, 11200, 19820, 14220, 3400, 10520, 20620, 20780, 7480, 600, 17000, 4000, 13500, 13260, 3180, 16720, 6400, 7140, 17480, 7480, 2460, 1640, 14700, 3640, 6740, 11620, 7280, 2460, 17940, 17300, 14540, 5020, 4220, 600, 1640, 13320, 15580, 9940, 3320, 4000, 3640, 8860, 10460, 20780, 3180, 3320, 10360, 14040, 13900, 15880, 10460, 11760, 18120, 5800, 14700, 2460, 4000, 9760, 10460, 7140, 8840, 14540, 3180, 14700, 18920, 5660, 7880, 8060, 19800, 13500, 11760, 7280, 11420, 16720, 8060, 16560, 11420, 18260, 18960, 5660, 17000, 14580, 1100, 10660, 11420, 11200, 18160, 7680, 3840, 7120, 5020, 6500, 15540, 6720, 15540, 18160, 11420, 9240, 15880, 13500, 15540, 17000, 17600, 3080, 7880, 18960, 19820, 5060, 7280, 1100, 5060, 9240, 7140, 14920, 1900, 11760, 2340, 4000, 1440, 14220, 15540, 1020, 2460, 6500, 17940, 8840, 13500, 20620, 20380, 3200, 7480, 6740, 14700, 20380, 6720, 18180, 7680, 13260, 6720, 10460, 3640, 7280, 3200, 13520, 3240, 7120, 3200, 9340, 10520, 18120, 13260, 20700, 14980, 13280, 7140, 8840, 7480, 18260, 7120, 9740, 3320, 10660, 18960, 15880, 17600, 11380, 3640, 14920, 10660, 11620, 6720, 18180, 8060, 3180, 5140, 3080, 8860, 14700, 16860, 3240, 9760, 13280, 16560, 13900, 16720, 1020, 8860, 12680, 11420, 6740, 5780, 7360, 5140, 2340, 80, 2460, 19820, 10520, 2460, 8860, 7880, 6500, 13260, 11420, 11300, 18040, 11760, 600, 13280, 600, 10460, 14700, 17480, 16720, 10520, 18920, 9340, 11620, 10520, 9760, 8060, 13260, 14040, 14540, 10980, 3840, 9340, 17600, 20780, 8060, 9760, 13520, 19820, 14580, 1640, 3240, 1100, 6400, 15960, 13520, 9340, 1020, 1640, 8860, 20700, 1440, 18180, 7480, 18260, 11620, 7280, 8840, 5800, 10660, 6400, 10360, 10460, 3240, 7480, 1100, 3200, 5440, 3400, 14580, 2460, 13900, 7680, 3180, 3400, 18920, 9940, 10660, 2340, 11420, 19800, 3240, 5140, 6500, 3080, 20380, 5800, 19820, 16860, 3180, 5660, 7140, 6500, 18260, 19800, 3320, 9240, 18960, 17000, 9740, 10980, 11200, 16720, 9740, 5780, 17300, 2820, 3400, 19800, 14980, 3200, 80, 11420, 18960, 16720, 11620, 13320, 6100, 3840, 16860, 11200, 17000, 16860, 3560, 10980, 1640, 14580, 15960, 6720, 600, 13280, 7360, 15880, 18260, 14980, 15540, 20380, 6740, 7120, 5440, 17000, 19800, 11420, 6400, 2820, 19800, 11420, 10980, 8840, 5140, 6400, 13260, 2340, 9240, 2820, 5780, 6400, 2460, 18040, 20380, 18120, 3200, 5020, 15880, 3240, 3240, 8860, 600, 7120, 14980, 14700, 14580, 14700, 3180, 6400, 14580, 11300, 6740, 9740, 6400, 11200, 10660, 2340, 3840, 2460, 9760, 11760, 19800, 3400, 14540, 7680, 3320, 7360, 17600, 5020, 8840, 10360, 7360, 7480, 11380, 7120, 5140, 11420, 8840, 5780, 3200, 6400, 3180, 80, 5020, 1020, 7280, 5060, 7140, 11200, 5060, 19800, 8860, 3240, 11760, 10520, 7680, 14920, 1640, 3080, 12680, 15580, 17300, 1440, 17300, 3200, 6500, 7140, 18960, 19800, 7880, 8840, 80, 1100, 14980, 10360, 7120, 7480, 3640, 8860, 11420, 11620, 13500, 13520, 10980, 15960, 6500, 3240, 2460, 14040, 20620, 14980, 14220, 11620, 3640, 18120, 8060, 9760, 3240, 18160, 2460, 6400, 15880, 17600, 20780, 4000, 10460, 3320, 18920, 7480, 13520, 16860, 7120, 5060, 16860, 11380, 10980, 14220, 13900, 15540, 13520, 3640, 7680, 3560, 1020, 18120, 13520, 5140, 11200, 7360, 1100, 11420, 18120, 17940, 11420, 16720, 3180, 19820, 7480, 13500, 6100, 1640, 9240, 5140, 7680, 10520, 17300, 9240, 11420, 10460, 10520, 15580, 5140, 13500, 1640, 6500, 18920, 18120, 10980, 18160, 11380, 15960, 5780, 11420, 14920, 8060, 19820, 13280, 9740, 18160, 18260, 14980, 11620, 14700, 18040, 2460, 20780, 14040, 3080, 9940, 2460, 1900, 1020, 9240, 4000, 5020, 10460, 2460, 1440, 5660, 17480, 1020, 9240, 11760, 5020, 15580, 14540, 15880, 7360, 3200, 3320, 8860, 4000, 7140, 3400, 9340, 8060, 7120, 5660, 17300, 4000, 14920, 20700, 3240, 7360, 20620, 5800, 18960, 80, 14040, 11420, 7480, 1900, 5060, 20780, 17000, 14700, 15960, 1640, 19160, 9940, 18120, 16560, 11200, 14580, 7680, 3560, 14920, 19800, 8860, 3180, 8840, 7680, 18180, 15540, 9340, 3240, 10460, 11620, 14220, 18960, 3640, 6740, 3560, 7280, 14980, 18260, 13320, 14700, 8840, 6400, 14040, 3320, 10360, 10460, 16860, 14580, 6740, 19820, 14040, 18920, 5780, 10980, 5140, 18920, 9240, 11760, 17300, 5780, 16860, 5660, 1640, 11380, 18160, 5060, 20380, 1440, 10460, 15580, 8860, 9760, 14220, 18920, 3240, 3080, 14040, 2460, 12680, 18960, 12680, 12680, 7880, 9760, 2340, 11420, 9940, 7140, 14700, 14540, 1900, 15880, 13900, 15540, 17600, 7680, 14980, 18040, 3840, 3400, 3320, 9760, 6500, 19160, 14580, 3080, 2460, 17000, 17940, 5020, 16560, 13520, 17000, 9340, 6720, 1440, 6740, 12680, 17940, 6500, 1440, 15580, 1900, 6720, 3840, 16560, 8060, 3560, 19160, 13320, 16560, 11760, 5440, 13320, 1900, 13900, 9940, 17300, 3080, 11420, 3400, 17600, 20700, 3560, 19820, 11420, 13280, 13500, 19800, 7140, 9740, 10460, 3080, 7680, 6720, 18160, 5440, 5020, 13500, 13520, 14220, 8060, 14920, 13280, 3840, 1100, 5780, 13320, 6720, 20700, 4000, 18160, 15540, 5140, 18260, 7880, 5800, 4220, 7880, 9340, 14220, 1020, 80, 10980, 14540, 4000, 1020, 17600, 18960, 5780, 1100, 11760, 9240, 14700, 9240, 16560, 6740, 14220, 4000, 1900, 19800, 3200, 9760, 3200, 9940, 18960, 13260, 5020, 18040, 17940, 20700, 20380, 17300, 20620, 600, 5020, 20380, 3560, 80, 11620, 9940, 18960, 13280, 17600, 4000, 4000, 6100, 13900, 18260, 19800, 20700, 18120, 5020, 12680, 15880, 2820, 20700, 18120, 3200, 14920, 16860, 14540, 20620, 3640, 7360, 13320, 18120, 10980, 4000, 3400, 13260, 14980, 7280, 6100, 13520, 7480, 6720, 13280, 1100, 1020, 7880, 17480, 7120, 6500, 18040, 19800, 6100, 5800, 19820, 10980, 10520, 11380, 15880, 10980, 5140, 20700, 13260, 2820, 13260, 7880, 1100, 18180, 11420, 18180, 17940, 11620, 11200, 15880, 6500, 14220, 9940, 18920, 8060, 14920, 20700, 18120, 12680, 17000, 19820, 6740, 11760, 5660, 13900, 14540, 11300, 17940, 10360, 14920, 6740, 4220, 20380, 10980, 6720, 20780, 16720, 18180, 2340, 3080, 1440, 8060, 3240, 11200, 9940, 5800, 20380, 80, 7880, 17300, 5780, 6740, 18960, 16860, 11760, 2340, 13520, 1020, 3200, 19820, 17940, 16560, 6740, 18260, 14220, 5140, 13900, 5780, 18160, 1100, 11420, 17300, 9940, 19800, 15960, 13260, 16560, 15880, 15880, 11300, 5060, 9940, 18260, 3180, 13500, 2460, 7680, 7680, 18960, 9240, 6500, 7140, 19800, 7140, 1100, 19800, 6720, 2340, 3080, 14540, 11200, 3180, 3080, 12680, 10360, 6500, 11420, 6400, 20780, 7480, 7680, 80, 18180, 13520, 7360, 9740, 15960, 13280, 17480, 7880, 6100, 8860, 9940, 10460, 16860, 11300, 9340, 1020, 19160, 11620, 18160, 13900, 3560, 10460, 11380, 9760, 6740, 3640, 13520, 10660, 13260, 3320, 18260, 2820, 10520, 10520, 11760, 3200, 3400, 9340, 16560, 18120, 13500, 5140, 14580, 19800, 11760, 5020, 15540, 11420, 18920, 7120, 5800, 5020, 17940, 9740, 19820, 13320, 2340, 19820, 3640, 7280, 10460, 7120, 15960, 14220, 7140, 17300, 13280, 5800, 11300, 1020, 15580, 11760, 13500, 5800, 11620, 11200, 14580, 13260, 7120, 16720, 11620, 11420, 18040, 11420, 1020, 4220, 12680, 12680, 14540, 14700, 9740, 7140, 3400, 6400, 16860, 19820, 3840, 6740, 14920, 600, 600, 14920, 20700, 1640, 7280, 5020, 7480, 6100, 10980, 4220, 20780, 18960, 15960, 7140, 7880, 9740, 7880, 7880, 18040, 14220, 4220, 19820, 17000, 7680, 10520, 7360, 13280, 17600, 3240, 14220, 19820, 20380, 12680, 14040, 13900, 3240, 6740, 14980, 13900, 14040, 15540, 2820, 11380, 18120, 6400, 3840, 3080, 13500, 3180, 5660, 15540, 1900, 10980, 7280, 14040, 8860, 18920, 1900, 13320, 20620, 3180, 15880, 14980, 6740, 14580, 14220, 18180, 7360, 3240, 18920, 7880, 10980, 17940, 1440, 13520, 11420, 10520, 11420, 20620, 600, 14980, 13280, 3840, 4000, 7120, 17480, 3640, 18260, 20380, 18160, 8060, 17480, 20780, 14220, 3320, 3840, 14580, 6720, 1440, 1900, 11760, 8840, 17300, 4220, 10360, 9340, 19820, 10980, 6400, 80, 13500, 18960, 18260, 11200, 2340, 3240, 9340, 9740, 1640, 18180, 18180, 11760, 3400, 14580, 14220, 10980, 15880, 4000, 13520, 13900, 18960, 1020, 10660, 5140, 3200, 9740, 9940, 15880, 8860, 13260, 1100, 9740, 6400, 10980, 11380, 3320, 13520, 11420, 14580, 5800, 10360, 17480, 1900, 14920, 7880, 10360, 18260, 5440, 5660, 14920, 17480, 14700, 11200, 14220, 11420, 12680, 5780, 17300, 18260, 6400, 11420, 14980, 10360, 9760, 16860, 10980, 20380, 9340, 1100, 20620, 13260, 7280, 2460, 9340, 18260, 1900, 14980, 4220, 7480, 5440, 10460, 7880, 10660, 19800, 18160, 10360, 18040, 6400, 13280, 3080, 5060, 8060, 80, 9760, 5060, 15540, 6100, 17940, 9940, 6100, 14700, 11420, 3080, 3080, 9340, 18120, 3080, 11300, 20380, 17300, 7480, 8840, 18160, 1440, 14540, 13500, 13320, 16860, 7880, 15540, 15960, 13500, 15880, 9740, 18160, 3200, 7680, 1440, 12680, 9740, 14040, 6720, 6400, 19800, 10980, 1900, 15580, 12680, 14920, 8860, 1440, 7360, 5020, 6740, 7360, 19820, 16860, 1440, 1900, 11380, 12680, 8840, 14580, 14580, 9340, 2460, 9940, 13900, 9940, 15580, 6720, 15580, 4000, 11380, 9240, 2820, 13500, 9940, 17000, 18260, 4220, 17480, 20700, 15580, 2340, 17000, 8860, 17000, 8060, 6500, 18260, 17000, 18120, 11200, 600, 4220, 12680, 7680, 1020, 19160, 14700, 80, 14540, 8840, 5440, 6740, 11760, 14220, 3180, 1640, 9240, 17000, 18160, 18920, 4220, 3180, 8860, 3180, 19160, 3840, 1640, 1640, 6500, 4000, 12680, 13500, 10360, 15540, 11300, 4000, 11760, 3200, 8060, 15880, 600, 8860, 18180, 17000, 5800, 2340, 10520, 10980, 15960, 5140, 3320, 18120, 7680, 13500, 17000, 19800, 3200, 5660, 5440, 18180, 16860, 16720, 5020, 7120, 17480, 3640, 1020, 9940, 9240, 14580, 10980, 7880, 5780, 6500, 15960, 3200, 19160, 14580, 3080, 13280, 1020, 7480, 14920, 5020, 13900, 3400, 15580, 18920, 14040, 7140, 1900, 15540, 5660, 20780, 7140, 18040, 7480, 10980, 6100, 17600, 5060, 13500, 1100, 7280, 11300, 20380, 5020, 7480, 11380, 14040, 10360, 7480, 13500, 13500, 19820, 18260, 15880, 19820, 11620, 17480, 7360, 8860, 4000, 18260, 11300, 7140, 9340, 5660, 3840, 14580, 12680, 17480, 6720, 6400, 17000, 1440, 7280, 6720, 9760, 15960, 80, 14540, 1020, 14580, 9240, 6740, 16560, 17300, 1020, 18180, 18960, 5660, 19160, 18260, 18120, 7880, 17000, 18260, 1100, 9940, 3200, 7140, 11420, 11380, 5440, 3080, 13500, 13500, 15540, 6100, 13500, 7120, 13500, 14700, 11380, 14580, 18960, 7360, 9240, 1640, 8060, 11200, 17300, 20700, 14540, 8860, 17300, 20700, 18920, 15960, 13320, 3240, 2460, 5660, 17300, 19160, 9240, 11380, 11760, 15540, 20620, 11420, 15580, 5020, 19160, 9760, 20780, 6100, 11300, 3200, 9740, 1900, 17000, 600, 17480, 15960, 10660, 5800, 17000, 18040, 7280, 13260, 1440, 5060, 2820, 20620, 2460, 3320, 1640, 19800, 10660, 18040, 19820, 14220, 11760, 7280, 18120, 8860, 17600, 17300, 14920, 3840, 18040, 13500, 16560, 11200, 3400, 16720, 11380, 14040, 18160, 4220, 1100, 7480, 17940, 600, 3400, 6500, 7140, 3560, 2340, 5060, 3560, 14220, 3080, 17480, 13320, 19820, 80, 1900, 17940, 18040, 18180, 10360, 11420, 18260, 3240, 19160, 3840, 7360, 7480, 600, 16560, 7280, 6720, 16560, 10520, 10360, 18120, 3400, 11620, 9940, 1440, 7140, 7680, 8860, 4220, 10660, 8840, 20780, 8840, 11760, 3840, 7480, 10980, 7140, 18040, 13320, 14980, 18920, 12680, 7280, 14220, 3840, 15580, 80, 8060, 1100, 4220, 19800, 7880, 15580, 19800, 8860, 11420, 13320, 5140, 6500, 9740, 4000, 1020, 18120, 600, 17600, 16860, 18160, 10460, 15960, 13280, 20380, 10360, 1440, 1020, 14700, 3840, 5440, 18040, 19800, 2820, 9740, 11420, 15540, 20780, 3560, 18120, 4000, 14580, 6400, 7360, 5780, 14580, 13900, 18920, 10360, 7480, 4000, 8840, 20620, 17600, 20620, 6740, 10660, 3180, 14920, 18180, 7140, 13280, 3400, 6500, 14920, 20780, 16860, 19160, 9740, 2820, 8060, 5140, 13500, 6100, 17600, 3400, 13280, 12680, 5440, 3080, 12680, 1640, 3180, 11620, 14540, 8860, 10660, 14580, 13260, 13260, 1020, 14980, 15540, 9240, 17480, 16860, 6400, 11200, 13320, 5800, 18180, 3840, 14920, 17940, 18040, 20780, 7120, 16860, 7880, 3080, 11300, 18920, 14580, 10980, 18260, 19820, 7280, 600, 10520, 11420, 3640, 18040, 14580, 80, 14920, 7280, 8860, 1640, 12680, 5660, 18260, 11380, 11620, 2340, 4000, 1900, 1640, 10660, 11420, 18160, 13280, 5060, 17940, 5440, 600, 5440, 7140, 7680, 18120, 3840, 600, 10460, 13260, 5440, 5140, 7480, 10460, 1640, 1440, 3640, 13280, 8860, 18260, 15960, 13520, 1100, 5660, 9240, 10520, 17940, 7480, 3840, 5800, 6720, 5780, 11620, 9740, 11420, 5780, 1440, 6740, 9340, 18260, 5780, 14700, 3080, 9760, 1020, 4220, 7480, 20380, 80, 3180, 15960, 17480, 19160, 10520, 18920, 80, 7680, 600, 9760, 14580, 6100, 3200, 10660, 3080, 16720, 14920, 7120, 14920, 6720, 5780, 5660, 14540, 20380, 17300, 7280, 10660, 4220, 14700, 6400, 3180, 9740, 13260, 3640, 14920, 1440, 14540, 3320, 13280, 14920, 10460, 5440, 13500, 16560, 14920, 3200, 20700, 7140, 10360, 11620, 2820, 3560, 19160, 1100, 2820, 11380, 18180, 15880, 15960, 15540, 12680, 9340, 6500, 19160, 15580, 20700, 20700, 6500, 14700, 9240, 18160, 12680, 3320, 6720, 18960, 10980, 11300, 1100, 5060, 14980, 13320, 13520, 9760, 13280, 6740, 19820, 9340, 5800, 7120, 1100, 18160, 1900, 7880, 8060, 14040, 18120, 13320, 80, 10360, 14220, 6400, 10980, 10460, 1440, 3320, 4000, 6720, 18180, 16860, 18960, 5800, 10660, 9340, 18040, 3080, 7880, 6740, 14540, 14580, 6100, 2820, 3560, 600, 7140, 6500, 8840, 13500, 11620, 7280, 7880, 5140, 13260, 20620, 80, 14980, 13900, 1640, 14220, 3180, 18180, 20620, 5800, 18960, 7120, 15960, 3400, 16860, 4000, 7280, 10980, 5020, 80, 7280, 8840, 17600, 10360, 16560, 17940, 11620, 3240, 3240, 19800, 18160, 3180, 5020, 2820, 17600, 14580, 5440, 7360, 4220, 3240, 3080, 12680, 8840, 10660, 3320, 14980, 14980, 15540, 18260, 5780, 18120, 5060, 3640, 18960, 10520, 3640, 10980, 5800, 19160, 19160, 3560, 9740, 11760, 16860, 10360, 18260, 8840, 14700, 10360, 17940, 18260, 2820, 5060, 10460, 15580, 20780, 14700, 8860, 3240, 11300, 3180, 9940, 11300, 15880, 13500, 7680, 10660, 19820, 7120, 11420, 16560, 9340, 10520, 16560, 9760, 10980, 14700, 3080, 6720, 9240, 17480, 17600, 10660, 10980, 6100, 13260, 16560, 19820, 16720, 9740, 13320, 15960, 10520, 18160, 18260, 5060, 6740, 11380, 11760, 7360, 1640, 9760, 80, 16560, 14980, 13500, 11420, 17480, 9940, 13500, 13280, 18040, 7880, 3200, 12680, 7280, 11420, 4220, 1020, 17600, 11420, 20620, 15960, 20380, 18040, 13260, 6400, 2820, 10360, 13280, 10520, 6100, 3180, 8860, 10980, 1100, 1100, 1640, 5660, 8840, 19160, 15880, 18960, 11300, 18960, 9340, 3560, 14700, 14220, 11300, 11420, 20620, 18180, 7280, 9740, 13500, 14040, 3200, 11380, 19160, 19800, 8860, 8060, 11420, 10460, 3560, 10360, 17600, 4220, 6740, 6500, 20780, 8840, 17480, 2820, 17940, 6100, 5440, 7120, 19160, 2820, 4220, 2820, 11420, 17480, 3640, 13320, 600, 17940, 11760, 13900, 3080, 18960, 18260, 20700, 8060, 3560, 11420, 15880, 15540, 4000, 18160, 3560, 15540, 15960, 18960, 20620, 16720, 15580, 6720, 11380, 3640, 20780, 14700, 18260, 8840, 11200, 20380, 9240, 20780, 17000, 7480, 10980, 9240, 11420, 6500, 11420, 14920, 7280, 9760, 13280, 18260, 6500, 14220, 15880, 9340, 7360, 17480, 13500, 7280, 8840, 5660, 11200, 600, 5140, 7880, 18960, 13500, 11300, 5020, 16860, 16860, 19820, 18040, 18040, 9240, 13280, 6740, 14980, 6720, 6100, 8840, 11420, 13280, 14980, 10980, 5440, 18040, 18180, 6100, 11200, 11420, 1440, 17480, 11380, 18120, 7480, 600, 10520, 11300, 5780, 3320, 11420, 11300, 11760, 600, 1100, 15960, 6500, 5800, 3640, 8060, 2340, 17940, 11420, 18040, 17940, 11200, 1100, 3320, 4220, 16720, 19800, 1640, 11420, 600, 16560, 8860, 20620, 9760, 10980, 18920, 3200, 1900, 10660, 11300, 20700, 20780, 14580, 13520, 7360, 9940, 7280, 11300, 3320, 13500, 7120, 3840, 9760, 13280, 3080, 11420, 7120, 18920, 18160, 2340, 4000, 16560, 3840, 5140, 13320, 18960, 2340, 11200, 20780, 3320, 8840, 19160, 4220, 5440, 13500, 9740, 8060, 11200, 3180, 15540, 5660, 20780, 8840, 9760, 15880, 14040, 3240, 7880, 1640, 1900, 13320, 18160, 5800, 15880, 13900, 13520, 18960, 6740, 18180, 14700, 4220, 13280, 8860, 6500, 18960, 13900, 16720, 15580, 5020, 10520, 17480, 4220, 18120, 1100, 15880, 17000, 18160, 15540, 5440, 4220, 14540, 20700, 1900, 16560, 4000, 17600, 13520, 10660, 10980, 5020, 16720, 15960, 5780, 10520, 1900, 11620, 13900, 15540, 11200, 8060, 5020, 7880, 2340, 7120, 3240, 15960, 3560, 13520, 4220, 15580, 13280, 1900, 80, 8840, 9340, 14980, 600, 6720, 5660, 16560, 6500, 17000, 9940, 2340, 18040, 3560, 15880, 3560, 5440, 6100, 14700, 9740, 13320, 9760, 1900, 1020, 5140, 9240, 15880, 9940, 16560, 7140, 7880, 20700, 18960, 3320, 20700, 13260, 18180, 3400, 3240, 19160, 3080, 11200, 3180, 15880, 10460, 11420, 3200, 20780, 11620, 2340, 18120, 8840, 3400, 2460, 8860, 8860, 6720, 11300, 7480, 7680, 8840, 11200, 18960, 11380, 16860, 3320, 600, 18260, 11420, 16560, 10360, 18960, 18120, 17480, 8840, 6400, 7280, 16560, 3240, 10520, 8840, 3560, 17480, 16560, 3560, 15540, 5020, 5660, 18960, 14580, 2340, 8860, 19800, 7360, 5800, 9760, 11300, 20780, 4000, 17600, 1900, 18180, 2340, 5140, 13280, 1100, 1440, 5780, 1020, 7280, 3200, 5800, 13320, 1640, 14220, 80, 3080, 7280, 11300, 7680, 7140, 11300, 3400, 13900, 3560, 15540, 16720, 11620, 17600, 3320, 18180, 7120, 11380, 6740, 11300, 20620, 6500, 15960, 14040, 10360, 17940, 7360, 13320, 13320, 9340, 17300, 19800, 15960, 13900, 10520, 1900, 6100, 20780, 20380, 5140, 11200, 1900, 3320, 7140, 18040, 7120, 7140, 2340, 11200, 2340, 18040, 14040, 7880, 6500, 10460, 19160, 17300, 11760, 20700, 18960, 3640, 11420, 1100, 20380, 5780, 9240, 15580, 6100, 9340, 6740, 16560, 3400, 600, 6740, 7880, 13500, 15880, 2460, 2340, 3240, 19820, 1020, 3320, 20700, 17600, 15580, 15880, 20380, 13520, 14920, 6400, 7140, 16860, 13260, 5060, 5800, 9740, 10660, 10520, 18960, 13260, 7680, 11620, 3080, 3560, 1440, 12680, 17940, 13260, 3080, 14700, 16860, 4220, 14040, 5020, 7140, 18180, 10360, 20620, 20620, 5780, 18260, 9740, 14700, 20620, 5020, 7360, 80, 10460, 16860, 7880, 14540, 17940, 5020, 6100, 19800, 6720, 18960, 18920, 10460, 14580, 18260, 15960, 11420, 11200, 3240, 5780, 10360, 18040, 7280, 11420, 11300, 14540, 7880, 2460, 3400, 18180, 1100, 10520, 1440, 8060, 7360, 4000, 14980, 7480, 18120, 4000, 3640, 1440, 9740, 6400, 3080, 14220, 3180, 6720, 17300, 16560, 5440, 18960, 1020, 10660, 14540, 10980, 20780, 16720, 8840, 6400, 14040, 1640, 6740, 11420, 16720, 1900, 15540, 16720, 3080, 3840, 9760, 7120, 11620, 3080, 1640, 19160, 3200, 13280, 16860, 8060, 1100, 10980, 18120, 10660, 14980, 3240, 12680, 5060, 9340, 16860, 13320, 4000, 19160, 80, 9740, 1020, 19160, 13320, 19160, 9760, 5780, 5800, 3640, 10360, 80, 1100, 17300, 1440, 18260, 9340, 600, 2340, 17000, 1020, 18180, 2460, 19160, 19800, 18120, 15880, 3320, 1640, 11300, 19800, 14980, 18120, 5800, 13260, 5440, 14040, 7280, 1440, 10520, 2460, 14040, 14580, 6100, 5780, 9240, 8860, 2820, 9940, 17600, 17300, 3240, 10660, 6720, 13320, 7480, 3240, 10980, 600, 7480, 2460, 11620, 1100, 18180, 14920, 14220, 6400, 5660, 17600, 11760, 600, 16860, 17300, 19820, 4000, 14700, 3080, 3180, 3320, 6740, 20620, 9240, 10980, 11200, 20620, 20780, 8840, 5020, 16720, 18180, 3840, 7140, 7880, 17600, 18120, 9740, 13260, 17480, 14920, 12680, 9760, 20700, 7480, 3560, 18120, 5020, 19820, 3240, 7140, 7120, 11760, 13520, 5440, 18040, 1640, 3400, 3560, 18920, 15880, 5140, 18260, 17940, 18160, 2460, 9340, 7280, 7360, 2820, 3640, 11380, 5140, 11420, 3320, 3080, 7140, 18040, 13520, 17000, 20620, 17480, 17000, 17480, 11420, 20700, 18160, 11620, 3560, 9340, 13520, 3200, 16860, 3320, 4000, 9740, 13520, 11420, 12680, 17000, 14980, 15880, 19160, 3320, 18160, 12680, 14700, 6720, 19820, 4000, 11380, 15880, 14920, 7120, 8840, 3240, 2460, 11620, 2460, 3240, 9940, 9940, 4000, 5140, 11380, 14920, 5060, 20380, 17940, 18260, 7680, 2340, 8860, 17600, 18180, 6400, 10520, 17300, 14580, 14980, 3240, 19160, 1100, 13520, 1020, 14920, 19800, 13320, 20380, 5780, 11420, 9760, 7120, 5020, 12680, 11620, 17600, 2340, 16560, 7680, 10460, 10460, 10360, 17480, 16560, 16560, 6720, 1020, 4220, 14040, 1440, 1640, 13280, 8860, 11200, 15540, 3240, 2820, 20620, 13280, 14700, 1640, 2820, 20700, 3400, 3560, 18180, 5440, 8860, 14700, 3180, 17480, 7680, 1440, 20620, 1900, 3320, 6500, 9240, 7480, 4220, 17000, 3180, 18160, 6400, 14220, 10980, 4000, 1100, 11620, 7360, 14700, 10460, 17940, 17940, 600, 9760, 1640, 5800, 9940, 9340, 20620, 10520, 3240, 5780, 1440, 1900, 3180, 600, 6720, 15960, 18960, 14220, 9760, 3180, 9760, 11420, 16720, 1100, 3640, 5800, 17940, 3200, 4220, 3840, 16860, 11300, 3080, 9760, 10660, 14700, 5780, 3400, 11300, 16720, 7880, 3400, 18920, 3400, 3840, 3320, 8060, 6720, 11420, 8840, 14980, 3320, 14920, 3560, 15960, 8840, 9340, 20780, 7280, 5140, 20620, 17480, 80, 3200, 20620, 5800, 10980, 15580, 6740, 19160, 16720, 17300, 5660, 3200, 12680, 9240, 6100, 9340, 15580, 17600, 17600, 7120, 17300, 3180, 1100, 11760, 9760, 3560, 8860, 5140, 17000, 14980, 6400, 4000, 1640, 19800, 3400, 7280, 11620, 9760, 18120, 10460, 11420, 80, 14220, 80, 5780, 13320, 18920, 13260, 18260, 5780, 15540, 11620, 7680, 7140, 9740, 7360, 8860, 18920, 14040, 7120, 18180, 16560, 11380, 5780, 9940, 7120, 5780, 14540, 17480, 18040, 6100, 4220, 11420, 6400, 17000, 17300, 18960, 5780, 7280, 17480, 16720, 9240, 16860, 8860, 5020, 14580, 16560, 7120, 80, 16720, 1640, 6500, 9940, 7880, 12680, 12680, 18180, 5440, 3320, 3400, 3180, 6500, 14540, 17480, 9340, 3560, 17940, 8860, 18260, 17000, 9940, 10980, 16560, 10360, 14980, 18040, 3560, 17600, 8860, 10460, 10460, 1100, 17480, 6740, 17000, 6100, 5020, 13260, 14040, 5140, 14980, 5060, 20700, 17480, 1440, 13500, 7880, 1900, 5800, 10660, 10980, 13280, 18160, 9740, 4000, 6720, 3180, 5020, 5800, 3180, 5780, 3400, 18920, 15880, 3240, 1640, 4220, 14700, 18160, 14040, 13320, 13320, 14920, 2460, 18120, 6400, 1900, 10360, 18040, 7880, 5440, 3180, 10460, 14220, 1100, 15880, 17940, 6400, 9340, 14220, 2460, 18920, 11200, 3560, 3200, 4000, 3200, 11620, 15880, 15580, 7480, 10460, 18040, 11200, 20620, 5140, 18040, 6740, 15540, 5440, 5660, 5440, 5800, 18120, 1020, 13900, 15580, 11200, 17300, 7140, 9760, 18960, 18160, 15580, 7360, 11420, 17600, 1100, 17600, 2460, 15540, 6100, 20380, 14920, 13280, 8840, 19800, 18040, 1020, 5780, 5780, 6720, 13500, 14040, 16720, 18260, 5140, 600, 17480, 20700, 10660, 7120, 8060, 1440, 3080, 17940, 2820, 11420, 7140, 15960, 20380, 18120, 7280, 17000, 9740, 5800, 9940, 1440, 9760, 3200, 13500, 5660, 17480, 13320, 18040, 18040, 6720, 13320, 7480, 20380, 19820, 18260, 5780, 6100, 4220, 18960, 15880, 10460, 11760, 15880, 13280, 600, 14040, 3080, 9240, 11420, 18120, 1440, 16860, 14920, 2460, 17940, 20780, 7480, 18040, 13500, 6400, 2340, 3840, 18920, 6100, 13260, 5780, 2340, 13900, 2340, 14040, 14580, 10520, 15540, 20620, 20780, 5660, 11200, 18960, 14040, 14040, 600, 14040, 11420, 3640, 19800, 7880, 17480, 11420, 13500, 14580, 8840, 13500, 7280, 20780, 17000, 5660, 8840, 2340, 20620, 2460, 18040, 9340, 10520, 6100, 8840, 10360, 18260, 9740, 7880, 3840, 4000, 18960, 11300, 11300, 5780, 5800, 3640, 11620, 7880, 14980, 10360, 18040, 11380, 80, 3080, 20780, 5800, 15540, 9940, 7280, 16860, 13320, 17480, 13520, 16720, 3180, 13320, 15880, 18180, 10660, 14580, 13260, 9940, 8860, 18960, 16560, 6500, 1640, 7360, 5800, 15880, 17600, 3320, 13900, 13900, 9240, 14980, 7360, 7120, 19820, 14920, 20380, 7360, 15880, 12680, 1640, 600, 3180, 1440, 20700, 11300, 3840, 6100, 11420, 18040, 18120, 9760, 5440, 13280, 11620, 13260, 7280, 18120, 14980, 1440, 5440, 6400, 2340, 5140, 16860, 15580, 1440, 2820, 13280, 16720, 5440, 10980, 13520, 7680, 17940, 12680, 20700, 3180, 5440, 15580, 5780, 1640, 7880, 16860, 6500, 7360, 5060, 9240, 15540, 3200, 14980, 9760, 3320, 2820, 16560, 7140, 1440, 9240, 9940, 9740, 6720, 6740, 5140, 16720, 14700, 15880, 5140, 15540, 11620, 8060, 13520, 7140, 18920, 5780, 8860, 12680, 20780, 18960, 18120, 7360, 13900, 3840, 9940, 18160, 7360, 13320, 20620, 9740, 5020, 3200, 14540, 9940, 10660, 11200, 8860, 3200, 17000, 11620, 7680, 10980, 16560, 7480, 10360, 15960, 19160, 5020, 16860, 16720, 17480, 16560, 1100, 17000, 6500, 17300, 6720, 14700, 10660, 3840, 9740, 11420, 4220, 6100, 14580, 11420, 6400, 18180, 2340, 3560, 10520, 11620, 17000, 3240, 3180, 80, 3080, 11760, 14220, 18180, 7680, 13260, 13320, 14700, 18040, 2460, 6740, 3240, 11300, 14220, 18180, 6400, 17940, 18920, 13520, 16720, 14700, 14540, 11760, 7480, 14040, 9340, 16720, 17600, 17480, 19820, 1640, 10460, 10520, 15880, 2820, 11420, 20620, 5060, 1100, 17940, 14580, 11380, 11620, 3640, 13280, 8060, 10980, 14700, 9940, 19160, 8860, 6400, 6720, 5440, 1640, 7360, 5060, 11200, 16720, 5660, 7360, 1640, 13320, 14980, 5020, 14700, 20380, 3560, 14220, 5440, 10980, 11420, 16860, 1020, 1100, 5020, 1100, 5020, 2340, 3840, 10520, 18040, 11620, 3640, 13500, 4220, 1100, 19800, 16560, 12680, 6740, 5780, 20700, 3400, 14040, 7280, 13900, 1020, 1900, 19800, 13280, 1100, 9240, 2820, 17940, 14040, 14980, 14580, 18260, 18160, 7680, 15540, 14220, 11420, 11420, 3560, 18160, 1100, 2340, 13500, 5800, 9340, 80, 1900, 13260, 5020, 18960, 17300, 7120, 5780, 5780, 8840, 10980, 7280, 5660, 10460, 16560, 17940, 20620, 19820, 10520, 14980, 9940, 7480, 7480, 10520, 5140, 17600, 3320, 15880, 3080, 3840, 600, 80, 14040, 1020, 5780, 15960, 19800, 17480, 20620, 17480, 13280, 8840, 18180, 20380, 2340, 13320, 3200, 18040, 5440, 14220, 20380, 5780, 11300, 14540, 16720, 10460, 19820, 7880, 13900, 9340, 7280, 3240, 3180, 80, 9740, 18260, 14540, 20380, 1440, 5440, 13500, 13900, 8060, 18160, 7480, 3560, 80, 5140, 3200, 14040, 4000, 20780, 7140, 7880, 10360, 13320, 9340, 6100, 19800, 14540, 12680, 14540, 13520, 14700, 18040, 3400, 15580, 7880, 9740, 5660, 5800, 4000, 3840, 18920, 80, 16560, 17600, 7120, 20700, 18180, 18920, 18160, 3400, 3240, 6500, 5440, 1020, 3640, 16860, 3640, 18920, 3400, 18160, 11380, 2340, 80, 6720, 11380, 9340, 1640, 11760, 5140, 7680, 3200, 5800, 9240, 10660, 7880, 10360, 18160, 20780, 20380, 1900, 8860, 11200, 14220, 4000, 9240, 19800, 14040, 3080, 13900, 17300, 17000, 8060, 10360, 9340, 14700, 20620, 1640, 3180, 14980, 14540, 7680, 5440, 600, 10460, 16720, 2460, 17600, 3840, 3840, 11620, 3180, 6720, 2820, 13520, 20700, 600, 9240, 3080, 5780, 10520, 13900, 2340, 5020, 5140, 11380, 18960, 20620, 1100, 11760, 15540, 3080, 20620, 7680, 4000, 13280, 8840, 14540, 18040, 3840, 3640, 9240, 20780, 5060, 11420, 7360, 3840, 16720, 15880, 14700, 11620, 3240, 19820, 17300, 3560, 6400, 3840, 10660, 11420, 6720, 1440, 7360, 18120, 9760, 10520, 11420, 18960, 9240, 13900, 11200, 14980, 7680, 7480, 9740, 6720, 10520, 7680, 5020, 11200, 9940, 15580, 17300, 9760, 7140, 5660, 18180, 18920, 5060, 1640, 14580, 6740, 10660, 14920, 5440, 11760, 17940, 7480, 8060, 3080, 20700, 17300, 13500, 80, 17600, 10520, 3840, 7680, 4220, 11620, 13320, 5780, 15580, 14700, 2820, 13280, 7140, 17600, 18920, 20780, 5660, 1640, 1020, 20700, 13500, 3180, 6500, 6740, 18180, 11760, 3640, 15540, 7120, 13520, 12680, 7280, 7280, 14920, 3400, 9340, 7680, 9940, 10980, 20380, 18180, 17000, 6720, 4220, 5800, 13320, 17000, 15580, 10980, 13520, 5060, 2460, 20700, 14920, 20620, 6500, 10360, 11420, 7280, 6740, 9740, 6720, 1440, 3560, 16860, 3240, 1440, 19820, 15960, 5020, 14920, 16720, 6400, 5140, 1020, 18920, 3320, 11760, 18180, 20700, 1900, 10460, 7280, 5060, 17000, 14040, 3180, 8840, 11420, 9240, 2460, 15580, 20620, 13260, 13280, 20780, 9940, 13260, 7680, 7680, 7120, 8060, 3180, 15880, 7140, 5780, 1020, 10360, 5660, 11420, 20380, 7680, 10460, 5020, 5800, 13260, 9340, 11620, 18960, 18960, 14040, 17000, 13320, 15960, 15880, 9240, 7280, 18120, 19160, 3400, 20700, 3400, 7880, 19820, 9940, 6100, 17600, 11300, 3240, 14040, 19160, 18120, 18260, 1440, 9940, 6500, 6740, 11380, 3840, 7480, 12680, 16860, 13900, 16560, 10360, 20780, 11620, 2460, 20700, 17000, 1900, 17600, 18920, 10520, 1640, 14540, 11380, 18180, 7680, 18960, 3200, 1640, 15960, 10660, 20380, 7280, 20380, 16720, 1440, 17300, 7880, 6720, 13280, 3320, 19800, 18120, 80, 18920, 5660, 11420, 5020, 19820, 17300, 4220, 13260, 18920, 3240, 20700, 17480, 5140, 10460, 6400, 11760, 11300, 6500, 1440, 3240, 9740, 3240, 11300, 17940, 13500, 13520, 3560, 15540, 9740, 19160, 14920, 18960, 18040, 14580, 11420, 7140, 11200, 11200, 11760, 10980, 3240, 4000, 11380, 14920, 19800, 6100, 5440, 12680, 13500, 19820, 17300, 5020, 17300, 14920, 1020, 7280, 9340, 17300, 15960, 13900, 7280, 19800, 14700, 600, 18160, 11420, 3560, 7360, 17300, 1640, 12680, 18960, 13500, 15580, 3840, 10520, 600, 16860, 80, 9740, 3640, 3180, 14220, 3080, 18160, 8860, 2340, 600, 18160, 5800, 5060, 1020, 16860, 13520, 16860, 7120, 6740, 5440, 2820, 7480, 13500, 12680, 6720, 18160, 18160, 8840, 5020, 7880, 20620, 7360, 20700, 18960, 14700, 6400, 17000, 11380, 1100, 13520, 13280, 16560, 11300, 1440, 16860, 17300, 1900, 6740, 1440, 14700, 15540, 16720, 9940, 2460, 14700, 9240, 7480, 3400, 80, 13520, 11420, 12680, 2340, 6400, 20700, 17480, 14980, 3840, 14980, 11420, 17000, 16720, 3640, 1900, 11420, 4220, 10460, 11300, 14540, 5800, 17480, 6500, 11380, 2340, 7120, 4220, 10360, 14920, 6100, 3200, 14220, 19820, 1100, 18920, 5140, 600, 18920, 9760, 3840, 1440, 5020, 11380, 5800, 14040, 10520, 3080, 5440, 10360, 3400, 4000, 6100, 8840, 14220, 4220, 9760, 2340, 14540, 12680, 15580, 9940, 18260, 15580, 18160, 11300, 3400, 15580, 11380, 5800, 17940, 18160, 17000, 13520, 20780, 19160, 6720, 20700, 4220, 18920, 13500, 17600, 1900, 9340, 16860, 17600, 8060, 5060, 10460, 1100, 15540, 5800, 3180, 8840, 17000, 3840, 6740, 8860, 8840, 14580, 18040, 3180, 1640, 8840, 5140, 18120, 14980, 5140, 20620, 3180, 3400, 5020, 17000, 8840, 3200, 3400, 5800, 5800, 13260, 17000, 11380, 3240, 3560, 7880, 18040, 6720, 15960, 18260, 3400, 3180, 11380, 11300, 10360, 13320, 7480, 13260, 18120, 11200, 9240, 5060, 16720, 15960, 6400, 3840, 7480, 3320, 13520, 9240, 10660, 13900, 11420, 4220, 600, 13900, 13500, 7880, 15580, 18960, 9940, 1900, 9240, 17600, 13260, 20700, 10660, 10460, 1640, 14920, 3400, 5020, 18160, 15580, 18120, 14220, 11200, 18960, 11420, 11420, 11200, 18120, 13260, 8840, 10660, 14580, 9340, 6400, 3320, 7140, 2820, 12680, 7280, 3840, 7120, 20780, 18260, 20700, 18920, 15540, 20620, 13260, 18180, 3200, 16560, 7360, 5060, 9340, 15540, 8860, 4220, 3080, 6500, 14580, 10360, 11620, 20380, 13280, 5660, 19820, 10460, 14700, 18920, 6400, 6740, 19800, 18040, 13520, 5660, 2340, 6400, 6400, 7140, 5660, 15540, 13900, 10360, 16860, 6720, 9240, 11200, 2460, 14980, 1020, 3840, 17600, 13520, 19160, 9760, 9940, 9760, 11380, 12680, 10460, 11380, 18260, 15880, 18960, 19160, 3320, 13260, 17600, 1100, 80, 1640, 14920, 15960, 1640, 13900, 6740, 9940, 9240, 18160, 13900, 3840, 11620, 3240, 4220, 20780, 3240, 16560, 5660, 13900, 20700, 3560, 9740, 3080, 600, 1900, 7140, 18180, 7480, 7880, 7140, 7880, 7880, 14220, 8840, 17300, 17940, 5800, 11760, 80, 17600, 3640, 14920, 13500, 5020, 17480, 12680, 6100, 20700, 600, 17480, 5440, 1900, 20620, 3840, 2820, 18040, 5020, 15880, 3240, 17300, 10520, 7680, 4000, 8860, 18960, 2340, 3240, 20780, 5660, 7360, 11620, 11380, 18160, 10360, 9940, 8060, 5660, 3400, 5780, 4000, 6720, 14540, 19160, 11380, 20780, 19800, 20620, 4220, 19820, 17600, 18040, 13320, 10360, 17600, 8860, 14220, 6500, 15540, 14700, 17000, 9760, 7280, 13500, 5060, 8060, 6100, 14700, 3640, 7140, 19800, 4220, 7140, 2820, 1020, 6100, 9340, 1440, 19820, 7880, 10660, 2340, 10660, 5780, 10460, 7120, 11620, 13260, 11420, 2340, 16860, 7680, 14920, 17480, 10660, 14540, 17300, 17000, 15960, 5020, 1440, 16720, 8060, 19820, 17940, 3080, 6740, 9740, 13500, 17480, 11420, 7280, 5140, 3180, 15880, 5140, 5660, 13900, 4220, 18040, 13260, 20780, 3200, 20700, 5780, 7140, 6500, 15960, 17480, 3400, 3400, 10980, 3400, 6740, 19800, 11300, 17300, 9940, 16720, 5660, 3640, 5020, 1640, 7140, 17480, 17600, 14040, 3560, 16560, 5800, 16720, 2820, 2820, 14980, 2460, 7480, 5660, 8840, 3840, 19800, 17000, 3640, 7480, 17300, 3320, 5800, 5780, 7140, 11620, 3200, 5020, 18920, 5020, 15580, 13320, 5660, 600, 7680, 15580, 6100, 3200, 5060, 17480, 1440, 12680, 11300, 15880, 6500, 13320, 3200, 1100, 18960, 1900, 13260, 13280, 14540, 8060, 18260, 7360, 3840, 1100, 18260, 600, 15580, 2820, 2820, 4220, 13500, 19160, 11200, 3400, 14920, 18040, 7880, 20780, 19800, 18120, 5140, 8860, 11200, 13900, 600, 18180, 16560, 7120, 17600, 17600, 3080, 5660, 11200, 10520, 3840, 7360, 7280, 13520, 3180, 20620, 20700, 1640, 13260, 8860, 18120, 6740, 16560, 13900, 14980, 3400, 18160, 9240, 17300, 17600, 19160, 9340, 5780, 5060, 13320, 18960, 6500, 9760, 1640, 9940, 6740, 9740, 5800, 2820, 3320, 15540, 10660, 6720, 20780, 6100, 10520, 5660, 17480, 20700, 7480, 16860, 1640, 10520, 13900, 6100, 18040, 14920, 1440, 5800, 19160, 7680, 7120, 2820, 11760, 14700, 13320, 6500, 14580, 5140, 10460, 7280, 11300, 6720, 13500, 13900, 7120, 5440, 10660, 10520, 18040, 19820, 19800, 5440, 12680, 13900, 13320, 7140, 1900, 14220, 1020, 10460, 8060, 5440, 6100, 17600, 16860, 15540, 6720, 20380, 3840, 5060, 3080, 13260, 7360, 7680, 13320, 18160, 18180, 18160, 8840, 3240, 15580, 600, 2460, 14040, 18920, 5780, 80, 5440, 13900, 5660, 19160, 2460, 7360, 7680, 80, 6100, 14040, 7360, 10460, 15580, 20700, 12680, 8840, 3320, 6720, 17300, 1900, 13900, 9940, 4000, 6400, 14920, 15880, 6720, 3840, 15580, 20700, 3640, 2820, 3640, 9340, 11760, 19160, 9240, 13520, 3080, 3560, 19160, 14580, 1020, 80, 1900, 3200, 8060, 10660, 10460, 2820, 2460, 1020, 1020, 14700, 3200, 11380, 9760, 14220, 15580, 18120, 4000, 3080, 4220, 6400, 18260, 9340, 5060, 20780, 7360, 20620, 7120, 18920, 19820, 13520, 13520, 6500, 11200, 5440, 2460, 80, 17940, 7480, 7360, 16560, 9340, 7140, 4000, 6740, 13520, 1900, 7280, 18120, 7360, 9240, 3080, 11420, 14580, 18160, 8860, 5780, 7480, 5800, 5060, 14700, 11420, 11620, 18160, 5140, 10660, 3640, 14700, 7120, 6100, 5800, 17300, 5440, 3320, 13280, 5140, 15960, 13280, 9760, 1100, 19160, 15540, 16720, 18260, 2820, 7680, 3180, 6100, 3180, 17300, 20700, 3400, 18180, 16860, 14040, 18180, 14580, 3400, 12680, 9940, 6720, 10980, 7360, 1100, 3400, 2460, 11760, 12680, 4220, 20380, 9740, 13280, 7480, 8060, 16560, 17480, 10660, 14700, 1020, 7680, 5440, 6720, 80, 2820, 18260, 19800, 10360, 11200, 7680, 4000, 12680, 7360, 1640, 3840, 7280, 18920, 14700, 6720, 8060, 20780, 14580, 11300, 13320, 14700, 17000, 9240, 19820, 11620, 12680, 16860, 7680, 13520, 17480, 16560, 17000, 5140, 3080, 14040, 1900, 15880, 13320, 11200, 13520, 19160, 3640, 2340, 15960, 20780, 3560, 1100, 1900, 10520, 11200, 10520, 2820, 9740, 14040, 8060, 3240, 8860, 2820, 18960, 13260, 12680, 18120, 12680, 5060, 8060, 3560, 18160, 5800, 15880, 10660, 4220, 11200, 2460, 4220, 13520, 18180, 80, 10980, 3840, 3840, 7120, 1440, 6720, 7360, 6400, 1100, 4000, 20700, 13500, 7360, 10460, 17480, 1900, 20620, 19160, 2460, 11200, 11420, 7280, 11380, 6740, 17940, 14580, 19800, 13500, 2460, 11300, 19820, 5780, 14980, 14220, 7880, 13900, 2820, 16720, 14540, 8060, 13500, 3840, 7880, 4220, 17000, 11760, 9240, 1020, 4000, 600, 7680, 15960, 15580, 7140, 7360, 18960, 20780, 2820, 7680, 13260, 3240, 11620, 5800, 1100, 600, 4220, 6720, 17940, 10660, 14220, 6500, 7280, 3560, 13500, 14220, 20620, 4220, 2460, 14580, 6100, 9760, 18120, 20620, 11620, 7680, 20380, 600, 7120, 10360, 3400, 9240, 17480, 7140, 11420, 1100, 11420, 6100, 7280, 18960, 7360, 4000, 3400, 11760, 13520, 7480, 20380, 3320, 3180, 8840, 19820, 5780, 15540, 4000, 3400, 20700, 3180, 8860, 14580, 14540, 13500, 17480, 17600, 8840, 2340, 18160, 4000, 16720, 20780, 8860, 14920, 20380, 18120, 8840, 3200, 11420, 15960, 1100, 5800, 3320, 4000, 11420, 14040, 1020, 13280, 18040, 8860, 5660, 17300, 10360, 7360, 1020, 6500, 18920, 14920, 17940, 19800, 14040, 3560, 9740, 4220, 11620, 14540, 80, 3840, 11760, 16860, 3560, 5780, 7360, 19820, 15880, 10980, 1020, 14220, 11380, 2820, 3640, 80, 11200, 12680, 18120, 11380, 1640, 17480, 6740, 14980, 1440, 15960, 18160, 19160, 16860, 6740, 6740, 7480, 14700, 8860, 18040, 7120, 80, 10660, 18160, 13260, 13520, 12680, 5780, 9940, 17940, 13500, 10660, 6740, 10980, 14920, 3320, 10660, 10520, 19820, 9940, 18160, 13500, 9340, 17600, 16860, 15540, 80, 19820, 10980, 600, 11620, 11420, 14540, 19800, 3080, 6740, 6720, 9740, 17940, 13320, 14040, 2460, 1100, 6500, 3240, 13520, 11380, 3560, 11300, 7280, 18180, 20380, 13900, 3840, 5780, 8840, 19160, 10980, 18960, 15880, 11420, 18960, 20380, 3180, 14540, 6500, 14700, 10460, 13320, 13320, 9760, 3640, 1020, 5780, 9760, 16860, 3640, 7140, 9340, 18120, 5800, 3400, 1020, 10360, 18180, 20380, 13900, 3320, 7120, 20700, 9240, 14980, 9760, 5800, 10360, 16720, 10460, 9340, 18260, 6400, 14920, 13500, 4220, 3400, 19160, 8840, 5020, 13500, 2460, 3400, 9740, 3560, 19800, 1900, 9760, 10360, 11760, 1900, 14540, 3320, 19160, 14980, 5780, 18120, 9340, 10660, 14540, 13260, 6740, 13500, 80, 3320, 7880, 1100, 10520, 11200, 9940, 1020, 4000, 13500, 11620, 1100, 11420, 13500, 18040, 7120, 8860, 7280, 7680, 7280, 5020, 1020, 9760, 5060, 13320, 6100, 18120, 1640, 18040, 5800, 7480, 6720, 3080, 3080, 9760, 4220, 6740, 3080, 7480, 3200, 20700, 9340, 19800, 5440, 6720, 14540, 14580, 7880, 13900, 4000, 5780, 20780, 3640, 19820, 6740, 2820, 2460, 80, 3240, 1440, 15960, 3200, 14220, 3560, 11760, 17480, 3400, 18260, 7140, 11300, 7480, 10520, 15960, 2340, 14580, 11300, 17940, 17940, 16860, 2460, 18260, 13520, 3400, 1900, 11200, 3400, 14220, 3640, 13320, 12680, 7120, 17300, 3240, 17480, 14920, 16720, 9760, 18920, 18960, 14580, 17000, 11380, 5660, 13320, 10360, 9940, 13280, 3320, 4220, 3320, 7680, 7360, 15580, 13260, 5140, 3180, 11760, 8860, 17480, 11300, 1020, 2340, 2820, 1020, 7680, 20380, 18260, 3200, 10660, 17600, 10360, 600, 18160, 8060, 18260, 13900, 7360, 6400, 14700, 3560, 16860, 6100, 5060, 12680, 15540, 16860, 7360, 15880, 16860, 9740, 14540, 14920, 11620, 20380, 17940, 5140, 600, 20700, 17600, 1020, 3640, 13900, 13320, 7360, 19160, 11620, 8840, 10460, 19800, 7360, 5660, 11380, 5020, 17600, 10460, 13280, 4220, 5800, 5020, 14980, 3560, 11380, 13260, 7140, 9940, 16560, 12680, 7680, 18260, 17000, 9340, 3560, 15580, 3200, 5140, 5660, 5660, 5060, 2460, 7140, 18180, 3640, 12680, 11300, 10360, 10360, 12680, 3640, 13500, 9740, 18160, 7880, 3320, 7480, 11420, 18160, 18920, 5060, 10980, 11760, 20700, 15540, 1640, 18920, 6400, 15580, 8860, 20380, 7880, 13520, 3840, 10460, 2820, 12680, 18960, 11420, 5060, 6500, 4000, 18180, 5140, 20380, 2460, 15540, 9240, 8840, 4220, 11420, 1440, 9760, 3560, 11300, 7480, 1020, 14540, 2340, 3640, 6100, 13280, 5020, 18040, 14580, 3400, 14920, 1020, 18180, 6740, 10360, 9760, 10520, 13900, 11300, 14580, 1020, 14700, 7880, 14580, 3320, 10980, 13520, 1440, 11200, 2460, 3180, 13500, 6100, 1440, 15540, 2340, 11760, 7360, 13900, 16720, 5800, 18920, 14700, 7140, 20700, 600, 7280, 5020, 14580, 10520, 14980, 6720, 11300, 15580, 13260, 13320, 3240, 17600, 7480, 5140, 8860, 16560, 10660, 14980, 1900, 16860, 1440, 11420, 14540, 6720, 13280, 80, 10460, 3240, 17000, 9340, 15960, 11420, 1640, 5140, 14980, 14040, 7120, 3400, 3640, 3640, 7880, 1900, 20620, 18920, 14540, 10660, 2340, 11620, 11200, 7140, 17480, 13260, 3240, 3640, 16720, 9240, 11620, 17940, 13500, 14540, 15580, 7880, 15540, 3400, 1900, 1640, 11760, 2340, 9740, 14040, 17300, 5800, 5060, 6740, 1900, 5060, 8840, 8860, 20780, 20380, 16860, 20620, 7680, 11420, 11620, 10660, 2460, 13500, 20700, 17940, 9940, 3080, 18260, 7480, 14920, 3240, 3840, 5060, 15960, 13320, 13900, 18960, 7880, 3320, 20380, 11200, 15540, 14700, 18180, 17940, 15880, 5140, 80, 5660, 20780, 11420, 19160, 18040, 14920, 19160, 15960, 5440, 3240, 17940, 14040, 19160, 14540, 18920, 6720, 10660, 18260, 20380, 9940, 7280, 5020, 14040, 80, 15580, 19160, 15880, 7120, 17600, 20620, 14980, 3560, 17000, 5140, 9760, 6500, 11760, 11420, 17940, 5060, 18960, 14580, 18180, 15580, 3640, 19800, 13520, 20620, 9340, 7280, 20380, 6500, 1640, 5780, 7280, 20780, 8060, 2340, 16560, 3560, 15960, 9760, 6400, 8060, 7360, 11200, 18960, 20380, 7360, 19820, 7120, 5780, 15880, 11300, 9740, 5140, 18960, 15960, 20780, 2340, 14540, 11760, 11420, 11420, 18920, 14220, 18260, 7680, 2460, 19160, 2460, 14700, 11620, 5660, 18180, 14540, 17000, 19820, 20780, 11380, 3080, 80, 10360, 3180, 2820, 2340, 11380, 5800, 11420, 5140, 11760, 3180, 3640, 8060, 10520, 6400, 11200, 8840, 7880, 13520, 1440, 7120, 6500, 4220, 16720, 80, 7280, 4220, 11200, 7280, 3240, 15540, 13320, 3320, 2340, 16860, 10460, 10660, 9760, 7360, 19160, 4000, 5660, 10460, 20700, 18120, 6400, 13900, 6400, 600, 18920, 11380, 11300, 15960, 5020, 13520, 4000, 18120, 17940, 5140, 18180, 3200, 5020, 17300, 8060, 10460, 3180, 14540, 8860, 11300, 1100, 14540, 11380, 2460, 14540, 7140, 15580, 80, 4220, 13280, 600, 5780, 3400, 11380, 5020, 3180, 9340, 3560, 13900, 3560, 9240, 5660, 10980, 13260, 11420, 9240, 14220, 14540, 14700, 15580, 5800, 11300, 7680, 11380, 13320, 3400, 3240, 12680, 7880, 1440, 14700, 17000, 14980, 10660, 19800, 3320, 18120, 80, 7480, 11200, 8060, 11380, 7280, 10460, 10360, 2820, 20620, 4220, 19800, 11420, 5140, 5440, 6740, 3640, 9240, 11760, 3200, 16860, 14540, 7680, 19820, 13280, 10520, 6500, 2820, 7880, 8840, 14580, 11380, 10520, 6740, 7360, 5020, 1020, 17000, 9740, 7120, 13900, 10460, 4000, 1100, 2820, 20780, 1900, 18960, 13900, 3080, 20380, 3640, 10360, 18120, 7880, 17600, 5800, 2340, 11420, 6100, 17000, 11200, 14580, 4000, 15880, 1100, 14920, 17600, 14040, 1640, 3840, 13900, 20380, 9940, 18260, 600, 15540, 17480, 18160, 9340, 8840, 2820, 14220, 16720, 20380, 17000, 5140, 7680, 19800, 20700, 8060, 2820, 14580, 10520, 18260, 18160, 3840, 20380, 3640, 7140, 2460, 20780, 1640, 8840, 5780, 13520, 17600, 17480, 11300, 17480, 3320, 5140, 7880, 11200, 10660, 5660, 3240, 20700, 18960, 10660, 14220, 6100, 14040, 7360, 13500, 13500, 80, 8060, 1440, 9340, 20780, 3400, 11380, 16720, 14540, 2340, 5660, 13260, 14040, 3840, 9340, 15960, 14980, 14540, 18120, 5440, 7680, 7280, 11420, 7880, 15880, 2460, 19820, 18920, 2820, 20700, 8860, 3640, 5800, 9940, 8840, 18920, 17940, 5440, 1020, 14920, 16560, 1440, 16860, 20700, 7360, 13260, 17300, 6500, 15880, 14040, 6720, 13900, 18180, 14040, 3080, 14220, 18120, 13500, 17940, 10520, 6400, 18960, 9940, 3180, 13900, 11760, 7680, 8060, 16720, 8860, 7680, 7360, 7120, 3180, 1440, 11760, 7120, 13500, 11300, 15580, 14700, 6500, 1900, 8060, 19160, 17480, 15880, 5660, 2820, 17480, 6720, 6500, 11760, 19160, 16720, 19800, 18160, 10980, 17300, 1900, 3840, 7280, 20620, 4000, 19160, 18920, 1020, 4220, 18180, 11420, 11200, 20780, 3640, 3200, 17600, 18040, 17300, 1100, 1640, 14540, 20380, 13520, 8840, 14580, 14920, 6400, 11760, 18040, 11300, 7140, 17300, 13260, 18920, 13520, 15580, 8060, 14580, 5780, 600, 14980, 14040, 18160, 11380, 18040, 20380, 19160, 3080, 3640, 8060, 3640, 16860, 3400, 14980, 11420, 9340, 18120, 13280, 17480, 1020, 3240, 4220, 20700, 16560, 19160, 3560, 5060, 17480, 17940, 6100, 12680, 20620, 13280, 14540, 600, 13320, 80, 13900, 600, 15960, 15880, 1900, 6740, 13260, 6740, 13520, 19820, 3400, 5440, 11420, 1640, 19800, 16720, 20700, 17480, 6740, 11420, 6740, 11420, 5060, 15540, 13260, 1020, 18160, 16860, 15960, 4220, 9760, 9740, 3200, 5660, 2820, 20700, 12680, 7480, 17000, 10980, 9240, 3560, 17480, 15880, 19160, 13900, 6740, 14580, 1640, 7280, 17940, 11620, 14540, 18180, 11200, 11420, 6500, 2340, 20620, 15960, 3080, 2340, 9340, 11420, 1020, 9760, 11420, 14540, 1900, 2820, 9240, 11300, 3640, 5440, 3320, 13320, 6500, 1020, 15580, 15580, 2460, 15540, 20620, 13260, 5060, 10460, 18260, 6720, 15880, 11420, 3560, 13500, 15960, 13280, 14580, 3320, 18160, 14540, 5440, 20620, 6740, 3200, 17300, 3240, 10980, 3400, 5140, 17480, 13280, 5800, 2820, 10460, 18260, 17600, 7120, 8840, 14920, 600, 1900, 14700, 6100, 19820, 16720, 18180, 9240, 8860, 6720, 9940, 5060, 17000, 17600, 8060, 4220, 6400, 5440, 5140, 6500, 11420, 1100, 10360, 6400, 10660, 2340, 6740, 3320, 19820, 13320, 15880, 6500, 13260, 1020, 11300, 8840, 7120, 20700, 18160, 14040, 6100, 13900, 6100, 11420, 18120, 14980, 2460, 16560, 14040, 10520, 17000, 600, 5060, 2820, 20620, 17300, 3840, 10460, 14220, 1900, 5800, 600, 3240, 14700, 10460, 16560, 18920, 2340, 16720, 18160, 11300, 80, 17600, 15540, 11200, 7140, 3080, 18960, 3320, 5140, 7880, 600, 3840, 8860, 3240, 19160, 11380, 10460, 11760, 3560, 18920, 1900, 3200, 14980, 6720, 5060, 20780, 14220, 18040, 19160, 3080, 20700, 17480, 1440, 3640, 1440, 2460, 8860, 9740, 12680, 17940, 18040, 5800, 5060, 13900, 18160, 5660, 8060, 19800, 5800, 3560, 5060, 1640, 18180, 80, 10660, 3240, 20780, 15880, 9240, 80, 20780, 15960, 16560, 3640, 2820, 11620, 2820, 17940, 3180, 2460, 20380, 16720, 5140, 2820, 1900, 9740, 4220, 5660, 20380, 14220, 17600, 10520, 11620, 3200, 19800, 15960, 7880, 7480, 5780, 1020, 10660, 15580, 15580, 7140, 5780, 11300, 14980, 8060, 19820, 13320, 17600, 15540, 13900, 1100, 1640, 6100, 13900, 3180, 1440, 10660, 11760, 5800, 7480, 18180, 17300, 14920, 11760, 10460, 5780, 6500, 9940, 13320, 14920, 18040, 15580, 18120, 15960, 3640, 19820, 11760, 5020, 14580, 11380, 7360, 1900, 13280, 16560, 18920, 10980, 13280, 5800, 16720, 9940, 5800, 13900, 10980, 3240, 3200, 18120, 80, 14540, 20620, 2820, 6100, 6740, 8060, 17000, 17600, 6720, 20780, 9340, 9240, 17600, 1440, 14580, 2340, 5800, 18260, 15960, 9740, 11420, 10520, 1640, 18180, 10980, 600, 11200, 17600, 5020, 13320, 6740, 11760, 13260, 5060, 80, 18960, 7480, 18260, 11620, 15580, 7680, 14920, 4220, 7480, 12680, 15960, 13900, 14980, 15540, 5020, 2820, 4000, 1440, 17000, 5140, 80, 11200, 20620, 6720, 3180, 14220, 3840, 14980, 14540, 5140, 7280, 14040, 3400, 20380, 20380, 1640, 14580, 15880, 19160, 4000, 6400, 7140, 13900, 3640, 14580, 19160, 2460, 19160, 13500, 20700, 1100, 3400, 15580, 9940, 14220, 5060, 9740, 2460, 3560, 6720, 17000, 7480, 11620, 1900, 1020, 14040, 16720, 18180, 14980, 1100, 20700, 4000, 10460, 13280, 3640, 3240, 11620, 6720, 5140, 1440, 2460, 8840, 2820, 7680, 20700, 19800, 20380, 3640, 11420, 20780, 10360, 10360, 10520, 11620, 19160, 18160, 9740, 18260, 600, 16560, 8860, 10660, 14980, 8840, 9240, 3840, 18160, 3640, 16560, 9940, 3240, 17480, 80, 20380, 15580, 9940, 17480, 18120, 7360, 17480, 8060, 1900, 3080, 5060, 13900, 3320, 2460, 15580, 10660, 7120, 6720, 11380, 9940, 80, 3180, 5060, 20780, 7360, 6740, 13520, 10980, 14220, 7280, 17300, 5660, 8060, 15540, 600, 18040, 17480, 15580, 18920, 19800, 7280, 14540, 17300, 7140, 13500, 15540, 3320, 600, 17000, 5660, 7280, 5020, 8840, 3400]\n"
     ]
    }
   ],
   "source": [
    "print(y_pred)\n",
    "print(test_label.tolist())"
   ]
  },
  {
   "cell_type": "code",
   "execution_count": 145,
   "metadata": {
    "collapsed": true
   },
   "outputs": [],
   "source": [
    "from sklearn.metrics import accuracy_score\n"
   ]
  },
  {
   "cell_type": "code",
   "execution_count": null,
   "metadata": {
    "collapsed": true
   },
   "outputs": [],
   "source": []
  }
 ],
 "metadata": {
  "kernelspec": {
   "display_name": "Python 3",
   "language": "python",
   "name": "python3"
  },
  "language_info": {
   "codemirror_mode": {
    "name": "ipython",
    "version": 3
   },
   "file_extension": ".py",
   "mimetype": "text/x-python",
   "name": "python",
   "nbconvert_exporter": "python",
   "pygments_lexer": "ipython3",
   "version": "3.6.1"
  }
 },
 "nbformat": 4,
 "nbformat_minor": 2
}
