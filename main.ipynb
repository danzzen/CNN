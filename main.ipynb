{
 "cells": [
  {
   "cell_type": "code",
   "execution_count": 2,
   "metadata": {
    "collapsed": true
   },
   "outputs": [],
   "source": [
    "import pandas as pd\n",
    "import numpy as np\n",
    "import matplotlib.pyplot as plt"
   ]
  },
  {
   "cell_type": "code",
   "execution_count": 3,
   "metadata": {
    "collapsed": true
   },
   "outputs": [],
   "source": [
    "def unpickle(file):\n",
    "    import pickle\n",
    "    with open(file, 'rb') as fo:\n",
    "        dict = pickle.load(fo, encoding='bytes')\n",
    "    return dict"
   ]
  },
  {
   "cell_type": "code",
   "execution_count": 4,
   "metadata": {
    "collapsed": true
   },
   "outputs": [],
   "source": [
    "file = 'cifar-100-python/train'\n",
    "file2 = 'cifar-100-python/test'\n",
    "train = unpickle(file)\n",
    "test = unpickle(file2)\n",
    "# print (len(data.get(b'filenames')))\n",
    "# print (data.keys())"
   ]
  },
  {
   "cell_type": "code",
   "execution_count": 5,
   "metadata": {
    "collapsed": true
   },
   "outputs": [],
   "source": [
    "# print(pd.Series(data.get(b'coarse_labels')))\n",
    "# print(test.keys())\n",
    "test_label_c=pd.Series(test.get(b'coarse_labels'))\n",
    "_testdata = pd.Series(x for x in test.get(b'data'))\n",
    "test_label_f=pd.Series(test.get(b'fine_labels'))\n",
    "images = pd.Series(test.get(b'filenames'))\n",
    "test_df = pd.DataFrame(images , columns=['images'])\n",
    "test_df['c_label'] = test_label_c\n",
    "test_df['f_label'] = test_label_f\n",
    "test_df['data'] =_testdata"
   ]
  },
  {
   "cell_type": "code",
   "execution_count": 6,
   "metadata": {
    "collapsed": true
   },
   "outputs": [],
   "source": [
    "c_label = pd.Series(train.get(b'coarse_labels'))\n",
    "f_label = pd.Series(train.get(b'fine_labels'))\n",
    "images = pd.Series(train.get(b'filenames'))\n",
    "_traindata = pd.Series(x for x in train.get(b'data'))"
   ]
  },
  {
   "cell_type": "code",
   "execution_count": 7,
   "metadata": {
    "collapsed": true
   },
   "outputs": [],
   "source": [
    "df = pd.DataFrame(images , columns=['images'])\n",
    "df['c_label'] = c_label\n",
    "df['f_label'] = f_label\n",
    "df['data'] =_traindata"
   ]
  },
  {
   "cell_type": "code",
   "execution_count": 8,
   "metadata": {
    "collapsed": true
   },
   "outputs": [],
   "source": [
    "def imageplot(rgb,i):\n",
    "    img = np.array(rgb[i])\n",
    "    # transform it to a 3 x 1024 array, one row per color channel \n",
    "    # and transpose it to a 1024 x 3 array, one row per rgb pixel\n",
    "    img = img.reshape(3, 1024).T\n",
    "    # reshape it so we can plot it as a 32 x 32 image with 3 color channels\n",
    "    img = img.reshape(32, 32, 3)\n",
    "\n",
    "    # plot\n",
    "    plt.imshow(img)\n",
    "    plt.show()"
   ]
  },
  {
   "cell_type": "code",
   "execution_count": 9,
   "metadata": {},
   "outputs": [
    {
     "data": {
      "image/png": "[encoded data removed]",
      "text/plain": [
       "<matplotlib.figure.Figure at 0x2a0860d8908>"
      ]
     },
     "metadata": {},
     "output_type": "display_data"
    }
   ],
   "source": [
    "imageplot(_traindata,447)"
   ]
  },
  {
   "cell_type": "code",
   "execution_count": 10,
   "metadata": {},
   "outputs": [
    {
     "data": {
      "text/html": [
       "<div>\n",
       "<style>\n",
       "    .dataframe thead tr:only-child th {\n",
       "        text-align: right;\n",
       "    }\n",
       "\n",
       "    .dataframe thead th {\n",
       "        text-align: left;\n",
       "    }\n",
       "\n",
       "    .dataframe tbody tr th {\n",
       "        vertical-align: top;\n",
       "    }\n",
       "</style>\n",
       "<table border=\"1\" class=\"dataframe\">\n",
       "  <thead>\n",
       "    <tr style=\"text-align: right;\">\n",
       "      <th></th>\n",
       "      <th>images</th>\n",
       "      <th>c_label</th>\n",
       "      <th>f_label</th>\n",
       "      <th>data</th>\n",
       "    </tr>\n",
       "  </thead>\n",
       "  <tbody>\n",
       "    <tr>\n",
       "      <th>0</th>\n",
       "      <td>b'volcano_s_000012.png'</td>\n",
       "      <td>10</td>\n",
       "      <td>49</td>\n",
       "      <td>[199, 196, 195, 195, 196, 197, 198, 198, 199, ...</td>\n",
       "    </tr>\n",
       "    <tr>\n",
       "      <th>1</th>\n",
       "      <td>b'woods_s_000412.png'</td>\n",
       "      <td>10</td>\n",
       "      <td>33</td>\n",
       "      <td>[113, 88, 72, 63, 72, 100, 131, 149, 139, 132,...</td>\n",
       "    </tr>\n",
       "    <tr>\n",
       "      <th>2</th>\n",
       "      <td>b'seal_s_001803.png'</td>\n",
       "      <td>0</td>\n",
       "      <td>72</td>\n",
       "      <td>[61, 61, 67, 62, 64, 63, 70, 73, 78, 88, 85, 7...</td>\n",
       "    </tr>\n",
       "    <tr>\n",
       "      <th>3</th>\n",
       "      <td>b'mushroom_s_001755.png'</td>\n",
       "      <td>4</td>\n",
       "      <td>51</td>\n",
       "      <td>[93, 88, 104, 90, 74, 70, 70, 75, 77, 60, 61, ...</td>\n",
       "    </tr>\n",
       "    <tr>\n",
       "      <th>4</th>\n",
       "      <td>b'adriatic_sea_s_000653.png'</td>\n",
       "      <td>10</td>\n",
       "      <td>71</td>\n",
       "      <td>[80, 80, 82, 86, 92, 97, 96, 97, 98, 99, 100, ...</td>\n",
       "    </tr>\n",
       "  </tbody>\n",
       "</table>\n",
       "</div>"
      ],
      "text/plain": [
       "                         images  c_label  f_label  \\\n",
       "0       b'volcano_s_000012.png'       10       49   \n",
       "1         b'woods_s_000412.png'       10       33   \n",
       "2          b'seal_s_001803.png'        0       72   \n",
       "3      b'mushroom_s_001755.png'        4       51   \n",
       "4  b'adriatic_sea_s_000653.png'       10       71   \n",
       "\n",
       "                                                data  \n",
       "0  [199, 196, 195, 195, 196, 197, 198, 198, 199, ...  \n",
       "1  [113, 88, 72, 63, 72, 100, 131, 149, 139, 132,...  \n",
       "2  [61, 61, 67, 62, 64, 63, 70, 73, 78, 88, 85, 7...  \n",
       "3  [93, 88, 104, 90, 74, 70, 70, 75, 77, 60, 61, ...  \n",
       "4  [80, 80, 82, 86, 92, 97, 96, 97, 98, 99, 100, ...  "
      ]
     },
     "execution_count": 10,
     "metadata": {},
     "output_type": "execute_result"
    }
   ],
   "source": [
    "test_df.head()"
   ]
  },
  {
   "cell_type": "code",
   "execution_count": 11,
   "metadata": {},
   "outputs": [
    {
     "data": {
      "text/plain": [
       "images     False\n",
       "c_label    False\n",
       "f_label    False\n",
       "data       False\n",
       "dtype: bool"
      ]
     },
     "execution_count": 11,
     "metadata": {},
     "output_type": "execute_result"
    }
   ],
   "source": [
    "df.isnull().any()"
   ]
  },
  {
   "cell_type": "code",
   "execution_count": 12,
   "metadata": {},
   "outputs": [
    {
     "data": {
      "text/plain": [
       "images     False\n",
       "c_label    False\n",
       "f_label    False\n",
       "data       False\n",
       "dtype: bool"
      ]
     },
     "execution_count": 12,
     "metadata": {},
     "output_type": "execute_result"
    }
   ],
   "source": [
    "test_df.isnull().any()"
   ]
  },
  {
   "cell_type": "code",
   "execution_count": 78,
   "metadata": {
    "collapsed": true
   },
   "outputs": [],
   "source": [
    "train_label=df['c_label']\n",
    "test_label = test_df['c_label']"
   ]
  },
  {
   "cell_type": "code",
   "execution_count": 14,
   "metadata": {
    "collapsed": true
   },
   "outputs": [],
   "source": [
    "from __future__ import division\n",
    "\n",
    "import warnings\n",
    "from scipy import linalg\n",
    "\n",
    "from sklearn.base import TransformerMixin, BaseEstimator\n",
    "from sklearn.utils.validation import check_is_fitted\n",
    "from sklearn.utils import check_array, as_float_array\n",
    "from sklearn.externals import six\n",
    "class ZCA(BaseEstimator, TransformerMixin):\n",
    "    def __init__(self, regularization=1e-6, copy=False):\n",
    "        self.regularization = regularization\n",
    "        self.copy = copy\n",
    "    \n",
    "    def fit(self, X, y=None):\n",
    "        \"\"\"Compute the mean, whitening and dewhitening matrices.\n",
    "        Parameters\n",
    "        X : array-like with shape [n_samples, n_features]\n",
    "            The data used to compute the mean, whitening and dewhitening\n",
    "            matrices.\n",
    "        \"\"\"\n",
    "        def warn_if_not_float(X, estimator='This algorithm'):\n",
    "            if not isinstance(estimator, six.string_types):\n",
    "                estimator = estimator.__class__.__name__\n",
    "            if X.dtype.kind != 'f':\n",
    "                warnings.warn(\"%s assumes floating point values as input, \"\n",
    "                              \"got %s\" % (estimator, X.dtype))\n",
    "                return True\n",
    "            return False\n",
    "        X = check_array(X, accept_sparse=None, copy=self.copy,\n",
    "                        ensure_2d=True)\n",
    "        if warn_if_not_float(X, estimator=self):\n",
    "            X = X.astype(np.float)\n",
    "        self.mean_ = X.mean(axis=0)\n",
    "        X_ = X - self.mean_\n",
    "        cov = np.dot(X_.T, X_) / (X_.shape[0]-1)\n",
    "        U, S, _ = linalg.svd(cov)\n",
    "        s = np.sqrt(S.clip(self.regularization))\n",
    "        s_inv = np.diag(1./s)\n",
    "        s = np.diag(s)\n",
    "        self.whiten_ = np.dot(np.dot(U, s_inv), U.T)\n",
    "        self.dewhiten_ = np.dot(np.dot(U, s), U.T)\n",
    "        return self\n",
    "\n",
    "    def transform(self, X, y=None, copy=None):\n",
    "        \"\"\"Perform ZCA whitening\n",
    "        X : array-like with shape [n_samples, n_features]\n",
    "            The data to whiten along the features axis.\n",
    "        \"\"\"\n",
    "        check_is_fitted(self, 'mean_')\n",
    "        X = as_float_array(X, copy=self.copy)\n",
    "        return np.dot(X - self.mean_, self.whiten_.T)\n",
    "\n",
    "    def inverse_transform(self, X, copy=None):\n",
    "        \"\"\"Undo the ZCA transform and rotate back to the original\n",
    "        representation\n",
    "        Parameters\n",
    "        ----------\n",
    "        X : array-like with shape [n_samples, n_features]\n",
    "            The data to rotate back.\n",
    "        \"\"\"\n",
    "        check_is_fitted(self, 'mean_')\n",
    "        X = as_float_array(X, copy=self.copy)\n",
    "        return np.dot(X, self.dewhiten_) + self.mean_\n",
    "__all__ = ['ZCA']\n"
   ]
  },
  {
   "cell_type": "code",
   "execution_count": 67,
   "metadata": {
    "collapsed": true
   },
   "outputs": [],
   "source": [
    "X = train.get(b'data')# data array\n",
    "X_test = test.get(b'data')\n",
    "X = X.astype('float32')\n",
    "X_test = X_test.astype('float32')\n",
    "X=X/255\n",
    "X_test=X_test/255"
   ]
  },
  {
   "cell_type": "code",
   "execution_count": 68,
   "metadata": {},
   "outputs": [],
   "source": [
    "\n",
    "trf = ZCA().fit(X)\n",
    "X_whitened = trf.transform(X)\n",
    "X_whitened = (X_whitened-X_whitened.mean())/X_whitened.max()"
   ]
  },
  {
   "cell_type": "code",
   "execution_count": 70,
   "metadata": {},
   "outputs": [
    {
     "data": {
      "image/png": "[encoded data removed]",
      "text/plain": [
       "<matplotlib.figure.Figure at 0x2a09c402710>"
      ]
     },
     "metadata": {},
     "output_type": "display_data"
    }
   ],
   "source": [
    "#image after whitening\n",
    "imageplot(X_whitened,1)"
   ]
  },
  {
   "cell_type": "code",
   "execution_count": 71,
   "metadata": {
    "collapsed": true
   },
   "outputs": [],
   "source": [
    "# print(X_whitened)\n",
    "\n",
    "trf = ZCA().fit(X_test)\n",
    "X_whitened_test=trf.transform(X_test)\n",
    "X_whitened_test = (X_whitened_test-X_whitened_test.mean())/X_whitened_test.max()"
   ]
  },
  {
   "cell_type": "code",
   "execution_count": 72,
   "metadata": {},
   "outputs": [
    {
     "data": {
      "image/png": "[encoded data removed]",
      "text/plain": [
       "<matplotlib.figure.Figure at 0x2a09c556390>"
      ]
     },
     "metadata": {},
     "output_type": "display_data"
    }
   ],
   "source": [
    "imageplot(X_whitened_test,1)"
   ]
  },
  {
   "cell_type": "code",
   "execution_count": 36,
   "metadata": {},
   "outputs": [
    {
     "name": "stderr",
     "output_type": "stream",
     "text": [
      "Using TensorFlow backend.\n"
     ]
    }
   ],
   "source": [
    "from keras.models import Sequential\n",
    "from keras.layers import Dense\n",
    "from keras.layers import Dropout\n",
    "from keras.layers import Flatten\n",
    "from keras.constraints import maxnorm\n",
    "from keras.optimizers import SGD\n",
    "from keras.layers import Activation\n",
    "from keras.layers.convolutional import Conv2D\n",
    "from keras.layers.convolutional import MaxPooling2D\n",
    "from keras.layers.normalization import BatchNormalization\n",
    "from keras.utils import np_utils\n",
    "# from keras_sequential_ascii import sequential_model_to_ascii_printout\n",
    "import multiprocessing as mp\n",
    "from keras import backend as K\n",
    "K.set_image_dim_ordering('tf')"
   ]
  },
  {
   "cell_type": "code",
   "execution_count": 73,
   "metadata": {},
   "outputs": [],
   "source": [
    "# data array\n",
    "\n",
    "X=X.reshape((len(X), 3, 32,32))\n",
    "X=np.rollaxis(X,1,4)\n",
    "# print(X)"
   ]
  },
  {
   "cell_type": "code",
   "execution_count": 74,
   "metadata": {
    "collapsed": true
   },
   "outputs": [],
   "source": [
    "X_test=X_test.reshape((len(X_test), 3, 32,32))\n",
    "X_test=np.rollaxis(X_test,1,4)"
   ]
  },
  {
   "cell_type": "code",
   "execution_count": 75,
   "metadata": {},
   "outputs": [
    {
     "name": "stdout",
     "output_type": "stream",
     "text": [
      "[[[[  9.61304829e-03   6.40841783e-04   7.26881390e-03]\n",
      "   [  6.56943861e-03  -4.53153625e-03  -2.33979896e-03]\n",
      "   [  4.76851361e-03   5.29600168e-03  -7.79728696e-04]\n",
      "   ..., \n",
      "   [ -1.88093390e-02  -5.23342527e-02  -1.73690263e-02]\n",
      "   [  4.00871113e-02   5.77699989e-02   9.44441482e-02]\n",
      "   [ -2.25356817e-02   2.24209893e-02  -2.05595773e-02]]\n",
      "\n",
      "  [[  6.03851769e-03  -4.04966064e-03   5.26371319e-03]\n",
      "   [  2.27352455e-02   4.51179873e-03   6.00538030e-03]\n",
      "   [  2.22282120e-04   5.04520535e-03   9.55436286e-03]\n",
      "   ..., \n",
      "   [  1.81957381e-03  -5.10323718e-02  -7.73388892e-02]\n",
      "   [ -2.39936579e-02  -1.08712446e-02  -8.15724432e-02]\n",
      "   [  1.14985825e-02   1.10397162e-02  -7.65399411e-02]]\n",
      "\n",
      "  [[  1.00094285e-02  -1.11932131e-02   4.51797852e-03]\n",
      "   [  7.30491662e-03   7.98882917e-03   8.29810835e-03]\n",
      "   [ -1.16247556e-03   6.66895602e-03   1.80257694e-03]\n",
      "   ..., \n",
      "   [  2.17330493e-02  -5.25063230e-03   8.80321637e-02]\n",
      "   [  3.64470333e-02   7.76991025e-02  -2.25886311e-02]\n",
      "   [ -5.93283735e-02  -2.54061334e-02  -8.15807953e-02]]\n",
      "\n",
      "  ..., \n",
      "  [[ -9.32096783e-03  -3.88423563e-04   5.53765558e-02]\n",
      "   [  3.09220748e-03   5.79342470e-02  -9.31550339e-02]\n",
      "   [ -3.22135468e-03   2.03021951e-02  -2.22836458e-03]\n",
      "   ..., \n",
      "   [ -1.36831552e-02  -1.04675055e-01   6.10119663e-02]\n",
      "   [  3.42873973e-03   2.19720230e-02  -4.13799547e-02]\n",
      "   [ -3.68345380e-02  -7.73625523e-02  -5.71872480e-02]]\n",
      "\n",
      "  [[  9.82457772e-03   1.32936537e-02  -7.36348564e-03]\n",
      "   [  4.90234094e-03   1.57633293e-02  -5.53823309e-03]\n",
      "   [  2.64582019e-02  -2.16472968e-02   7.83854052e-02]\n",
      "   ..., \n",
      "   [ -5.09187728e-02  -1.75696015e-01   6.08965568e-02]\n",
      "   [  3.21730389e-04   6.37743399e-02   3.14793810e-02]\n",
      "   [  5.31524271e-02   1.00846782e-01   5.57334349e-02]]\n",
      "\n",
      "  [[ -4.36172299e-02  -3.70819345e-02  -1.74633525e-02]\n",
      "   [ -3.30182202e-02  -2.46451441e-02  -3.69546637e-02]\n",
      "   [ -1.60201844e-02   1.42165497e-02   1.97449774e-02]\n",
      "   ..., \n",
      "   [ -1.44576458e-02  -6.79704994e-02  -3.90587151e-02]\n",
      "   [ -2.65823696e-02   1.34884059e-01  -3.32487151e-02]\n",
      "   [  3.35352100e-03   1.48166016e-01  -6.34543002e-02]]]\n",
      "\n",
      "\n",
      " [[[  5.30036772e-03   1.02574574e-02   5.38696581e-03]\n",
      "   [  2.23305332e-03  -1.34049719e-02   4.89624450e-03]\n",
      "   [  8.52739066e-03   1.02452077e-02  -5.20352414e-03]\n",
      "   ..., \n",
      "   [  2.15050322e-03   4.48368676e-03  -1.52979558e-02]\n",
      "   [ -4.46104351e-03  -1.98756973e-03   4.33049863e-03]\n",
      "   [  3.30973603e-03   8.13299697e-03   3.98050994e-03]]\n",
      "\n",
      "  [[  1.75122521e-04  -6.52366783e-03   6.78531243e-04]\n",
      "   [  6.57870481e-03   4.58838930e-03  -7.32160639e-03]\n",
      "   [  3.49155255e-03  -8.63785855e-03  -2.16737785e-03]\n",
      "   ..., \n",
      "   [  2.96634506e-03   1.21199060e-03   4.43732692e-03]\n",
      "   [  7.69638037e-03  -4.55189496e-03  -3.89423833e-04]\n",
      "   [  5.11207385e-03  -5.85100427e-03  -8.26633070e-04]]\n",
      "\n",
      "  [[  9.25110467e-03  -6.02570130e-03  -3.43022123e-03]\n",
      "   [ -9.51770041e-03   1.22730620e-02   2.72464327e-04]\n",
      "   [  1.22127132e-02   8.18311644e-04  -3.33515508e-03]\n",
      "   ..., \n",
      "   [  8.42566788e-03  -1.52044857e-04  -1.20735576e-03]\n",
      "   [  1.06625333e-02   1.19515776e-03   2.21467810e-03]\n",
      "   [ -1.08827539e-02   8.44333041e-03   1.53421148e-04]]\n",
      "\n",
      "  ..., \n",
      "  [[  4.07235324e-03  -9.08358395e-03   3.72223585e-04]\n",
      "   [ -8.72674119e-03   4.39243112e-03   9.43217799e-03]\n",
      "   [  4.25385917e-03  -5.46218269e-03   1.67281635e-03]\n",
      "   ..., \n",
      "   [  3.72424978e-03  -2.65220064e-03  -9.27564746e-04]\n",
      "   [  5.64486301e-03  -7.08934478e-03  -1.94656881e-04]\n",
      "   [  2.05503195e-04  -1.85728574e-03   5.11055673e-03]]\n",
      "\n",
      "  [[ -6.61305385e-03   6.27991790e-03   4.12287703e-03]\n",
      "   [  7.91572314e-03   1.20075932e-03  -7.31937937e-04]\n",
      "   [  5.82806114e-03   2.62779795e-04   1.39282562e-03]\n",
      "   ..., \n",
      "   [  7.59881642e-03   4.36532078e-03   4.22852160e-03]\n",
      "   [  1.72097425e-04   5.87098300e-03   6.02253946e-03]\n",
      "   [  7.69311562e-03  -6.51516113e-03  -2.13372009e-03]]\n",
      "\n",
      "  [[  5.87313762e-03   6.74267253e-03   4.15398087e-03]\n",
      "   [ -6.28048182e-03  -9.45617259e-03   4.42542788e-03]\n",
      "   [  7.53350649e-03   7.04160845e-03  -2.79537542e-03]\n",
      "   ..., \n",
      "   [  4.59068874e-03  -2.06977269e-03  -8.14263243e-03]\n",
      "   [ -1.89984252e-03  -1.39392423e-03  -3.70262424e-03]\n",
      "   [  4.05622507e-03   1.39041571e-02   5.34390379e-03]]]\n",
      "\n",
      "\n",
      " [[[  4.85938415e-03  -2.10133055e-03   9.58965998e-03]\n",
      "   [  1.29907465e-04  -3.21077160e-03   7.35501572e-03]\n",
      "   [  5.96026704e-03   1.78685191e-03  -1.20629231e-02]\n",
      "   ..., \n",
      "   [  2.00425601e-03  -1.52030797e-03   8.30825977e-03]\n",
      "   [  1.57864243e-02  -4.86022420e-03   3.59411002e-03]\n",
      "   [ -1.02622956e-02  -2.56253197e-03   3.72380507e-03]]\n",
      "\n",
      "  [[ -2.87229242e-03  -1.60138111e-03   1.87013322e-03]\n",
      "   [  3.98594467e-03   7.73122814e-03   9.65679297e-04]\n",
      "   [ -2.65132878e-02   3.09011936e-02   6.46145432e-04]\n",
      "   ..., \n",
      "   [ -6.19130908e-03   8.03014822e-03   1.45308701e-02]\n",
      "   [ -4.91507398e-03   1.86776537e-02   1.13976989e-02]\n",
      "   [  5.14127919e-03   1.97109748e-02  -1.81360375e-02]]\n",
      "\n",
      "  [[  1.33415507e-02  -2.39510974e-03  -1.62412575e-03]\n",
      "   [ -4.98704193e-03   1.36198755e-02   1.20460521e-03]\n",
      "   [  1.86543874e-02  -1.42713664e-02   4.78740456e-03]\n",
      "   ..., \n",
      "   [ -2.30911188e-03   1.12487096e-03   6.59764092e-03]\n",
      "   [  8.02365597e-03   3.38489632e-03   1.11239282e-02]\n",
      "   [ -5.86840324e-03  -2.27936893e-03  -1.22284563e-02]]\n",
      "\n",
      "  ..., \n",
      "  [[ -1.52263381e-02   4.10026452e-03  -2.01688446e-02]\n",
      "   [  1.77682901e-03   1.57970451e-02  -3.62165235e-02]\n",
      "   [  9.51068010e-03  -1.60666965e-02   2.31415387e-02]\n",
      "   ..., \n",
      "   [  1.63148586e-02   2.10316498e-02  -4.20803763e-02]\n",
      "   [ -1.47808774e-03   1.13996328e-03  -1.29625769e-02]\n",
      "   [ -1.69742554e-02   7.30905309e-03   4.67176214e-02]]\n",
      "\n",
      "  [[ -1.79603510e-02   1.69430990e-02  -3.46817286e-03]\n",
      "   [  1.56033309e-02   2.03830767e-02  -1.99977141e-02]\n",
      "   [  9.39016324e-03  -3.29278968e-02   4.86467779e-02]\n",
      "   ..., \n",
      "   [  9.69007425e-03   1.22375432e-02  -5.77472299e-02]\n",
      "   [ -6.33507129e-03  -4.05524811e-03   2.90711480e-03]\n",
      "   [ -6.73894351e-03   9.84877255e-03   5.77068850e-02]]\n",
      "\n",
      "  [[  3.36376647e-03  -6.88658282e-03   1.19506270e-02]\n",
      "   [ -7.43945548e-03   6.67957449e-03   1.68344174e-02]\n",
      "   [ -9.28714639e-04   6.80539152e-03   8.92688986e-03]\n",
      "   ..., \n",
      "   [ -6.38545165e-03  -1.30797725e-03   1.66719276e-02]\n",
      "   [  1.06038330e-02  -1.04615455e-02   1.08603463e-02]\n",
      "   [ -4.02475102e-03  -2.50991993e-03   6.59812987e-03]]]\n",
      "\n",
      "\n",
      " ..., \n",
      " [[[ -1.15459403e-02  -3.32241785e-03   2.12196950e-02]\n",
      "   [  2.77076121e-02   1.88551508e-02   4.32533119e-03]\n",
      "   [ -7.44514354e-03   3.36253531e-02   2.45876666e-02]\n",
      "   ..., \n",
      "   [  1.19019346e-02   2.59844214e-02   1.46316597e-02]\n",
      "   [  9.46497452e-03   3.62537727e-02   2.89240684e-02]\n",
      "   [  1.59007916e-03   1.98911596e-02   1.21132741e-02]]\n",
      "\n",
      "  [[  1.22480746e-02  -6.09788159e-03   2.77806669e-02]\n",
      "   [  3.71977687e-02   3.80681572e-03   3.42056295e-03]\n",
      "   [ -9.14056320e-03  -8.03811662e-03   3.30722029e-03]\n",
      "   ..., \n",
      "   [  2.03035604e-02   9.63345170e-03   6.83258194e-03]\n",
      "   [ -1.18242456e-02  -9.51596908e-03   2.02890276e-03]\n",
      "   [  1.83800533e-02   7.18794158e-03   1.08618513e-02]]\n",
      "\n",
      "  [[  6.16071932e-03   1.53593523e-02   1.01524708e-03]\n",
      "   [ -9.72681120e-03  -3.82999331e-02  -3.66271026e-02]\n",
      "   [  5.19216899e-03  -1.77974738e-02  -5.58122899e-03]\n",
      "   ..., \n",
      "   [  4.44343779e-03  -2.97203455e-02  -2.47097965e-02]\n",
      "   [ -2.20509004e-02  -3.62242758e-02  -3.76222469e-02]\n",
      "   [ -7.53655331e-05  -1.67013295e-02  -3.06595452e-02]]\n",
      "\n",
      "  ..., \n",
      "  [[  2.51460522e-02   2.20123306e-02   3.26662511e-02]\n",
      "   [ -6.56016991e-02  -5.14771529e-02  -5.51084094e-02]\n",
      "   [ -5.39969048e-03  -3.15452106e-02   1.24942018e-02]\n",
      "   ..., \n",
      "   [ -2.21291389e-02  -1.79612543e-02  -2.97078639e-02]\n",
      "   [ -5.66119608e-03  -3.48076001e-02  -2.22025104e-02]\n",
      "   [ -1.19971242e-02   3.36643890e-03  -1.30556598e-02]]\n",
      "\n",
      "  [[  2.69506853e-02   3.40691879e-02   1.48199052e-02]\n",
      "   [ -2.82774325e-02  -4.19757552e-02  -2.32258718e-02]\n",
      "   [ -3.67116891e-02  -2.11470183e-02  -4.46055579e-04]\n",
      "   ..., \n",
      "   [  9.16834176e-03  -2.68265065e-02  -1.87729429e-02]\n",
      "   [ -4.15710285e-02  -3.13384235e-02  -1.71106886e-02]\n",
      "   [ -5.02119912e-03  -1.50163323e-02   1.97017286e-02]]\n",
      "\n",
      "  [[  2.23950837e-02   3.38211935e-03   1.08342366e-02]\n",
      "   [  1.86162197e-03   3.23230959e-02   2.37113182e-02]\n",
      "   [  9.14328825e-03   3.27207288e-03   3.88180418e-03]\n",
      "   ..., \n",
      "   [ -1.69913739e-03   1.64687727e-02   3.41803692e-02]\n",
      "   [  6.95644598e-03  -3.56478710e-03   1.00291558e-02]\n",
      "   [ -5.07979654e-03   2.82944888e-02   4.34989184e-02]]]\n",
      "\n",
      "\n",
      " [[[  2.96810511e-02   2.25351918e-02   2.82837246e-02]\n",
      "   [ -1.17140589e-02   1.13800721e-04   1.23779178e-02]\n",
      "   [  1.89481098e-02  -2.13302765e-02   5.11616804e-02]\n",
      "   ..., \n",
      "   [  9.57859866e-03  -5.16160112e-03   4.06718999e-02]\n",
      "   [ -2.08039489e-02  -2.94112824e-02   1.01977848e-02]\n",
      "   [  3.76931056e-02   4.72063869e-02   6.38125911e-02]]\n",
      "\n",
      "  [[ -4.67663780e-02  -2.29086094e-02  -4.14308868e-02]\n",
      "   [  9.42861941e-03   2.85522807e-02  -3.25914696e-02]\n",
      "   [  5.04395925e-03  -3.26569825e-02  -3.22749354e-02]\n",
      "   ..., \n",
      "   [  1.13544930e-02   2.80719139e-02  -2.40529720e-02]\n",
      "   [  3.05724167e-03   3.00770067e-02  -5.16435653e-02]\n",
      "   [ -2.78348308e-02   4.95312084e-03  -4.69959490e-02]]\n",
      "\n",
      "  [[  5.65734785e-03  -1.11924848e-02   1.68278050e-02]\n",
      "   [  3.18705267e-03   3.73950601e-02  -1.46569544e-02]\n",
      "   [  1.16088586e-02   2.21106969e-02  -1.72800627e-02]\n",
      "   ..., \n",
      "   [ -4.46786219e-03  -4.98155504e-02  -4.18123323e-03]\n",
      "   [ -2.11395044e-02  -1.16236811e-03  -2.31369305e-02]\n",
      "   [  3.21118310e-02  -3.03374585e-02   1.60251670e-02]]\n",
      "\n",
      "  ..., \n",
      "  [[ -6.64637983e-03  -2.02987697e-02   2.47729272e-02]\n",
      "   [  1.39975427e-02   4.80220746e-03  -1.13254590e-02]\n",
      "   [  1.06712093e-03   3.46437376e-03   2.65479051e-02]\n",
      "   ..., \n",
      "   [ -1.24417944e-02   3.60305747e-03   3.30866240e-02]\n",
      "   [  1.29097030e-02   8.20488669e-03  -1.31443748e-02]\n",
      "   [  2.10495340e-03  -6.67156698e-03   2.93474905e-02]]\n",
      "\n",
      "  [[ -4.61505130e-02  -3.47319990e-02  -3.26372236e-02]\n",
      "   [ -2.46549305e-03  -6.32449426e-03  -7.63160288e-02]\n",
      "   [ -2.14450415e-02  -2.20575258e-02  -3.19629274e-02]\n",
      "   ..., \n",
      "   [  1.80640927e-04  -1.25400778e-02  -3.44365537e-02]\n",
      "   [ -2.27782526e-03  -3.04284841e-02  -4.23263274e-02]\n",
      "   [ -1.11654652e-02  -2.96379551e-02   8.26006569e-03]]\n",
      "\n",
      "  [[  2.77667530e-02   2.93934755e-02   5.91393821e-02]\n",
      "   [  7.81842135e-03   3.34669091e-02  -5.28590707e-03]\n",
      "   [  3.31765600e-02   8.90176836e-03   2.98028383e-02]\n",
      "   ..., \n",
      "   [  8.01786967e-03   1.74334366e-02   2.49088407e-02]\n",
      "   [  1.68389119e-02   5.69596188e-03  -1.53271714e-02]\n",
      "   [  4.40889242e-04   1.37705747e-02   6.89093722e-03]]]\n",
      "\n",
      "\n",
      " [[[ -2.18391349e-03   1.80140138e-04  -1.09167984e-02]\n",
      "   [  3.83120426e-03  -3.79622006e-03  -2.93044350e-03]\n",
      "   [ -1.32830050e-02   1.25728631e-02  -5.39616402e-03]\n",
      "   ..., \n",
      "   [  3.37884703e-04  -4.62049013e-03  -9.27730405e-04]\n",
      "   [ -1.69084463e-02   1.68821346e-02  -2.51054671e-03]\n",
      "   [  2.52204225e-03  -3.42219020e-04   3.23287793e-03]]\n",
      "\n",
      "  [[ -1.95029762e-03  -2.62233405e-03   1.43820979e-02]\n",
      "   [ -3.16653363e-02   1.66758206e-02   7.89612439e-03]\n",
      "   [  8.27209465e-03  -1.47738028e-02   7.70567311e-03]\n",
      "   ..., \n",
      "   [ -6.15510531e-03  -9.60617978e-03   1.15734693e-02]\n",
      "   [  1.93011835e-02  -1.61099583e-02  -9.69941448e-03]\n",
      "   [ -3.71568836e-03   8.17104068e-04   2.58818921e-03]]\n",
      "\n",
      "  [[ -2.71070516e-03   5.80445025e-03  -9.23169218e-03]\n",
      "   [ -2.12368579e-03   6.88143866e-03  -1.51067483e-03]\n",
      "   [ -4.01418144e-03   1.74323388e-03  -3.92658263e-03]\n",
      "   ..., \n",
      "   [  8.26111878e-04  -4.54363832e-03   5.66594396e-03]\n",
      "   [ -5.08443778e-03   4.81446600e-03   5.59476204e-03]\n",
      "   [ -1.71322084e-03  -9.36524104e-03   1.71512074e-03]]\n",
      "\n",
      "  ..., \n",
      "  [[  7.03368848e-03  -5.79041895e-03  -2.38314061e-03]\n",
      "   [ -1.59892661e-04  -6.05435204e-03   1.03603583e-03]\n",
      "   [ -2.97122635e-03   3.52046522e-03  -1.86463061e-03]\n",
      "   ..., \n",
      "   [  7.05312099e-03  -9.89136565e-03  -3.15790181e-03]\n",
      "   [  4.16550378e-04  -2.02682745e-02   2.11246461e-02]\n",
      "   [  9.04316362e-03  -6.77325903e-03  -5.57957171e-03]]\n",
      "\n",
      "  [[  1.05472384e-02  -2.00972445e-02   5.24562411e-03]\n",
      "   [  3.12079466e-03  -4.42445790e-03  -5.33189252e-03]\n",
      "   [  6.96556270e-03  -1.33110248e-02   9.20878071e-03]\n",
      "   ..., \n",
      "   [ -1.07542323e-02   4.09931177e-03   9.18832514e-03]\n",
      "   [  1.67904552e-02  -4.66379570e-03  -1.66226178e-02]\n",
      "   [  6.25715032e-03  -1.57643743e-02   1.50463218e-02]]\n",
      "\n",
      "  [[  3.95532325e-03   9.11294366e-04  -4.79404349e-03]\n",
      "   [  3.45840538e-03  -9.46544390e-03  -6.46145782e-03]\n",
      "   [  4.27673245e-03  -7.94194452e-03   3.20482487e-03]\n",
      "   ..., \n",
      "   [  1.30750313e-02  -2.79568955e-02  -1.39307824e-03]\n",
      "   [ -1.64006464e-02   1.32589536e-02  -9.61650908e-03]\n",
      "   [  1.95123311e-02  -1.29198367e-02  -1.71616618e-02]]]]\n"
     ]
    }
   ],
   "source": [
    "batch_size = 32 \n",
    "# 32 examples in a mini-batch, smaller batch size means more updates in one epoch\n",
    " \n",
    "num_classes = 20 #\n",
    "# repeat 100 times\n",
    "lss = []\n",
    "\n",
    "X_whitened=X_whitened.reshape((len(X_whitened), 3, 32,32))\n",
    "X_whitened=np.rollaxis(X_whitened,1,4)\n",
    "print(X_whitened)\n"
   ]
  },
  {
   "cell_type": "code",
   "execution_count": 76,
   "metadata": {},
   "outputs": [
    {
     "name": "stdout",
     "output_type": "stream",
     "text": [
      "10000\n"
     ]
    }
   ],
   "source": [
    "\n",
    "print(len(X_whitened_test))\n",
    "X_whitened_test = X_whitened_test.reshape((len(X_whitened_test),3,32,32))\n",
    "X_whitened_test = np.rollaxis(X_whitened_test,1,4)\n",
    "# print(X_whitened_test)"
   ]
  },
  {
   "cell_type": "code",
   "execution_count": 44,
   "metadata": {},
   "outputs": [],
   "source": [
    "# X_whitened_test.reshape((len(X_whitened_test),3,32,32))"
   ]
  },
  {
   "cell_type": "code",
   "execution_count": 79,
   "metadata": {},
   "outputs": [
    {
     "name": "stdout",
     "output_type": "stream",
     "text": [
      "[[ 0.  0.  0. ...,  0.  0.  0.]\n",
      " [ 0.  0.  0. ...,  0.  0.  0.]\n",
      " [ 0.  0.  0. ...,  0.  0.  0.]\n",
      " ..., \n",
      " [ 0.  0.  0. ...,  0.  0.  0.]\n",
      " [ 0.  0.  0. ...,  0.  0.  0.]\n",
      " [ 0.  1.  0. ...,  0.  0.  0.]]\n"
     ]
    }
   ],
   "source": [
    "train_label = np_utils.to_categorical(train_label, num_classes)\n",
    "test_label = np_utils.to_categorical(test_label, num_classes)\n",
    "print(train_label)"
   ]
  },
  {
   "cell_type": "code",
   "execution_count": null,
   "metadata": {},
   "outputs": [
    {
     "name": "stdout",
     "output_type": "stream",
     "text": [
      "_________________________________________________________________\n",
      "Layer (type)                 Output Shape              Param #   \n",
      "=================================================================\n",
      "conv2d_15 (Conv2D)           (None, 32, 32, 32)        896       \n",
      "_________________________________________________________________\n",
      "dropout_13 (Dropout)         (None, 32, 32, 32)        0         \n",
      "_________________________________________________________________\n",
      "conv2d_16 (Conv2D)           (None, 32, 32, 32)        9248      \n",
      "_________________________________________________________________\n",
      "max_pooling2d_8 (MaxPooling2 (None, 16, 16, 32)        0         \n",
      "_________________________________________________________________\n",
      "flatten_6 (Flatten)          (None, 8192)              0         \n",
      "_________________________________________________________________\n",
      "dense_11 (Dense)             (None, 512)               4194816   \n",
      "_________________________________________________________________\n",
      "dropout_14 (Dropout)         (None, 512)               0         \n",
      "_________________________________________________________________\n",
      "dense_12 (Dense)             (None, 20)                10260     \n",
      "=================================================================\n",
      "Total params: 4,215,220\n",
      "Trainable params: 4,215,220\n",
      "Non-trainable params: 0\n",
      "_________________________________________________________________\n",
      "None\n",
      "Train on 50000 samples, validate on 10000 samples\n",
      "Epoch 1/10\n",
      "50000/50000 [==============================] - 494s 10ms/step - loss: 2.9329 - acc: 0.0897 - val_loss: 2.8594 - val_acc: 0.1177\n",
      "Epoch 2/10\n",
      "50000/50000 [==============================] - 473s 9ms/step - loss: 2.8012 - acc: 0.1369 - val_loss: 2.7489 - val_acc: 0.1615\n",
      "Epoch 3/10\n",
      "50000/50000 [==============================] - 462s 9ms/step - loss: 2.7062 - acc: 0.1721 - val_loss: 2.6118 - val_acc: 0.2078\n",
      "Epoch 4/10\n",
      "50000/50000 [==============================] - 458s 9ms/step - loss: 2.6142 - acc: 0.2017 - val_loss: 2.5574 - val_acc: 0.2132\n",
      "Epoch 5/10\n",
      "50000/50000 [==============================] - 459s 9ms/step - loss: 2.5411 - acc: 0.2241 - val_loss: 2.5016 - val_acc: 0.2438\n",
      "Epoch 6/10\n",
      "50000/50000 [==============================] - 453s 9ms/step - loss: 2.4764 - acc: 0.2424 - val_loss: 2.4242 - val_acc: 0.2656\n",
      "Epoch 7/10\n",
      "50000/50000 [==============================] - 453s 9ms/step - loss: 2.4192 - acc: 0.2627 - val_loss: 2.3696 - val_acc: 0.2821\n",
      "Epoch 8/10\n",
      "50000/50000 [==============================] - 453s 9ms/step - loss: 2.3726 - acc: 0.2754 - val_loss: 2.3415 - val_acc: 0.2855\n",
      "Epoch 9/10\n",
      "50000/50000 [==============================] - 451s 9ms/step - loss: 2.3278 - acc: 0.2908 - val_loss: 2.3353 - val_acc: 0.2891\n",
      "Epoch 10/10\n",
      "49984/50000 [============================>.] - ETA: 0s - loss: 2.2943 - acc: 0.3007"
     ]
    }
   ],
   "source": [
    "epochs = 10\n",
    "from keras import backend as K\n",
    "K.set_image_dim_ordering('tf')\n",
    "model = Sequential()\n",
    "model.add(Conv2D(32, (3, 3), input_shape=(32, 32,3), padding='same', activation='relu', kernel_constraint=maxnorm(3)))\n",
    "model.add(Dropout(0.2))\n",
    "model.add(Conv2D(32, (3, 3), activation='relu', padding='same', kernel_constraint=maxnorm(3)))\n",
    "model.add(MaxPooling2D(pool_size=(2, 2)))\n",
    "model.add(Flatten())\n",
    "model.add(Dense(512, activation='relu', kernel_constraint=maxnorm(3)))\n",
    "model.add(Dropout(0.5))\n",
    "model.add(Dense(num_classes, activation='softmax'))\n",
    "# Compile model\n",
    "epochs = 10\n",
    "lrate = 0.01\n",
    "decay = lrate/epochs\n",
    "sgd = SGD(lr=lrate, momentum=0.9, decay=decay, nesterov=False)\n",
    "model.compile(loss='categorical_crossentropy', optimizer=sgd, metrics=['accuracy'])\n",
    "print(model.summary())\n",
    "\n",
    "\n",
    "cnn = model.fit(X_whitened, train_label, batch_size=batch_size, epochs=epochs, validation_data=(X_whitened_test,test_label),shuffle=True)"
   ]
  },
  {
   "cell_type": "code",
   "execution_count": null,
   "metadata": {
    "collapsed": true
   },
   "outputs": [],
   "source": []
  },
  {
   "cell_type": "code",
   "execution_count": null,
   "metadata": {
    "collapsed": true
   },
   "outputs": [],
   "source": []
  },
  {
   "cell_type": "code",
   "execution_count": 145,
   "metadata": {
    "collapsed": true
   },
   "outputs": [],
   "source": [
    "from sklearn.metrics import accuracy_score\n"
   ]
  },
  {
   "cell_type": "code",
   "execution_count": null,
   "metadata": {
    "collapsed": true
   },
   "outputs": [],
   "source": []
  }
 ],
 "metadata": {
  "kernelspec": {
   "display_name": "Python 3",
   "language": "python",
   "name": "python3"
  },
  "language_info": {
   "codemirror_mode": {
    "name": "ipython",
    "version": 3
   },
   "file_extension": ".py",
   "mimetype": "text/x-python",
   "name": "python",
   "nbconvert_exporter": "python",
   "pygments_lexer": "ipython3",
   "version": "3.6.1"
  }
 },
 "nbformat": 4,
 "nbformat_minor": 2
}
